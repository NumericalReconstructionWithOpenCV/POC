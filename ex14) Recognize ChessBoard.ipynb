{
 "cells": [
  {
   "cell_type": "markdown",
   "metadata": {},
   "source": [
    "# OpenCV 기초 예제"
   ]
  },
  {
   "cell_type": "markdown",
   "metadata": {},
   "source": [
    "체스보드의 각 모서리들을 인식하고, 좌표를 출력해볼 수 있다"
   ]
  },
  {
   "cell_type": "code",
   "execution_count": 1,
   "metadata": {
    "collapsed": false
   },
   "outputs": [
    {
     "name": "stderr",
     "output_type": "stream",
     "text": [
      "/usr/local/lib/python2.7/site-packages/matplotlib/font_manager.py:273: UserWarning: Matplotlib is building the font cache using fc-list. This may take a moment.\n",
      "  warnings.warn('Matplotlib is building the font cache using fc-list. This may take a moment.')\n"
     ]
    }
   ],
   "source": [
    "import cv2\n",
    "%matplotlib inline\n",
    "from matplotlib import pyplot as plt\n",
    "import numpy as np"
   ]
  },
  {
   "cell_type": "markdown",
   "metadata": {},
   "source": [
    "필요한 모듈 임포트"
   ]
  },
  {
   "cell_type": "code",
   "execution_count": 2,
   "metadata": {
    "collapsed": false
   },
   "outputs": [
    {
     "name": "stdout",
     "output_type": "stream",
     "text": [
      "(3, 30, 0.001)\n"
     ]
    }
   ],
   "source": [
    "criteria = (cv2.TERM_CRITERIA_EPS + cv2.TERM_CRITERIA_MAX_ITER, 30, 0.001)\n",
    "print criteria"
   ]
  },
  {
   "cell_type": "code",
   "execution_count": 3,
   "metadata": {
    "collapsed": true
   },
   "outputs": [],
   "source": [
    "cornerWidth = 5\n",
    "cornerHeight = 5"
   ]
  },
  {
   "cell_type": "markdown",
   "metadata": {},
   "source": [
    "인식할 좌표 정보 입력"
   ]
  },
  {
   "cell_type": "code",
   "execution_count": 4,
   "metadata": {
    "collapsed": false
   },
   "outputs": [
    {
     "name": "stdout",
     "output_type": "stream",
     "text": [
      "[[ 0.  0.  0.]\n",
      " [ 0.  0.  0.]\n",
      " [ 0.  0.  0.]\n",
      " [ 0.  0.  0.]\n",
      " [ 0.  0.  0.]\n",
      " [ 0.  0.  0.]\n",
      " [ 0.  0.  0.]\n",
      " [ 0.  0.  0.]\n",
      " [ 0.  0.  0.]\n",
      " [ 0.  0.  0.]\n",
      " [ 0.  0.  0.]\n",
      " [ 0.  0.  0.]\n",
      " [ 0.  0.  0.]\n",
      " [ 0.  0.  0.]\n",
      " [ 0.  0.  0.]\n",
      " [ 0.  0.  0.]\n",
      " [ 0.  0.  0.]\n",
      " [ 0.  0.  0.]\n",
      " [ 0.  0.  0.]\n",
      " [ 0.  0.  0.]\n",
      " [ 0.  0.  0.]\n",
      " [ 0.  0.  0.]\n",
      " [ 0.  0.  0.]\n",
      " [ 0.  0.  0.]\n",
      " [ 0.  0.  0.]]\n"
     ]
    }
   ],
   "source": [
    "objp = np.zeros((cornerWidth*cornerHeight,3), np.float32)\n",
    "print objp"
   ]
  },
  {
   "cell_type": "markdown",
   "metadata": {},
   "source": [
    "좌표 갯수만큼 zero배열 생성"
   ]
  },
  {
   "cell_type": "code",
   "execution_count": 5,
   "metadata": {
    "collapsed": false
   },
   "outputs": [
    {
     "name": "stdout",
     "output_type": "stream",
     "text": [
      "[[ 0.  0.  0.]\n",
      " [ 1.  0.  0.]\n",
      " [ 2.  0.  0.]\n",
      " [ 3.  0.  0.]\n",
      " [ 4.  0.  0.]\n",
      " [ 0.  1.  0.]\n",
      " [ 1.  1.  0.]\n",
      " [ 2.  1.  0.]\n",
      " [ 3.  1.  0.]\n",
      " [ 4.  1.  0.]\n",
      " [ 0.  2.  0.]\n",
      " [ 1.  2.  0.]\n",
      " [ 2.  2.  0.]\n",
      " [ 3.  2.  0.]\n",
      " [ 4.  2.  0.]\n",
      " [ 0.  3.  0.]\n",
      " [ 1.  3.  0.]\n",
      " [ 2.  3.  0.]\n",
      " [ 3.  3.  0.]\n",
      " [ 4.  3.  0.]\n",
      " [ 0.  4.  0.]\n",
      " [ 1.  4.  0.]\n",
      " [ 2.  4.  0.]\n",
      " [ 3.  4.  0.]\n",
      " [ 4.  4.  0.]]\n"
     ]
    }
   ],
   "source": [
    "objp[:,:2] = np.mgrid[0:cornerHeight,0:cornerWidth].T.reshape(-1,2)\n",
    "print objp"
   ]
  },
  {
   "cell_type": "markdown",
   "metadata": {},
   "source": [
    "각 배열의 값에 좌표 행,열 정보 입력"
   ]
  },
  {
   "cell_type": "code",
   "execution_count": 6,
   "metadata": {
    "collapsed": true
   },
   "outputs": [],
   "source": [
    "chessBoardImage = cv2.imread('chessboard.jpg')"
   ]
  },
  {
   "cell_type": "markdown",
   "metadata": {},
   "source": [
    "인식할 체스 보드 이미지 입력"
   ]
  },
  {
   "cell_type": "code",
   "execution_count": 7,
   "metadata": {
    "collapsed": false
   },
   "outputs": [
    {
     "data": {
      "text/plain": [
       "<matplotlib.image.AxesImage at 0x10c8ec410>"
      ]
     },
     "execution_count": 7,
     "metadata": {},
     "output_type": "execute_result"
    },
    {
     "data": {
      "image/png": "[encoded data removed]",
      "text/plain": [
       "<matplotlib.figure.Figure at 0x10795d150>"
      ]
     },
     "metadata": {},
     "output_type": "display_data"
    }
   ],
   "source": [
    "plt.imshow(chessBoardImage)"
   ]
  },
  {
   "cell_type": "markdown",
   "metadata": {},
   "source": [
    "테스트 출력"
   ]
  },
  {
   "cell_type": "code",
   "execution_count": 8,
   "metadata": {
    "collapsed": true
   },
   "outputs": [],
   "source": [
    "chessBoardGrayImage = cv2.cvtColor(chessBoardImage, cv2.COLOR_RGB2GRAY)"
   ]
  },
  {
   "cell_type": "markdown",
   "metadata": {},
   "source": [
    "연산을 위해 흑백 이미지로 변환"
   ]
  },
  {
   "cell_type": "code",
   "execution_count": 9,
   "metadata": {
    "collapsed": false
   },
   "outputs": [
    {
     "data": {
      "text/plain": [
       "<matplotlib.image.AxesImage at 0x10d814190>"
      ]
     },
     "execution_count": 9,
     "metadata": {},
     "output_type": "execute_result"
    },
    {
     "data": {
      "image/png": "[encoded data removed]",
      "text/plain": [
       "<matplotlib.figure.Figure at 0x10c898cd0>"
      ]
     },
     "metadata": {},
     "output_type": "display_data"
    }
   ],
   "source": [
    "plt.imshow(chessBoardGrayImage, cmap = \"gray\")"
   ]
  },
  {
   "cell_type": "markdown",
   "metadata": {},
   "source": [
    "테스트 출력"
   ]
  },
  {
   "cell_type": "code",
   "execution_count": 10,
   "metadata": {
    "collapsed": true
   },
   "outputs": [],
   "source": [
    "retangles, corners = cv2.findChessboardCorners(chessBoardGrayImage, (cornerHeight, cornerWidth), None)"
   ]
  },
  {
   "cell_type": "markdown",
   "metadata": {},
   "source": [
    "모서리 정상 인식 여부와 각 모서리들 데이터를 불러온다"
   ]
  },
  {
   "cell_type": "code",
   "execution_count": 20,
   "metadata": {
    "collapsed": false
   },
   "outputs": [
    {
     "name": "stdout",
     "output_type": "stream",
     "text": [
      "True\n"
     ]
    }
   ],
   "source": [
    "print retangles"
   ]
  },
  {
   "cell_type": "markdown",
   "metadata": {},
   "source": [
    "정상인식 확인"
   ]
  },
  {
   "cell_type": "code",
   "execution_count": 12,
   "metadata": {
    "collapsed": false
   },
   "outputs": [
    {
     "name": "stdout",
     "output_type": "stream",
     "text": [
      "[[[  39.5          39.5       ]]\n",
      "\n",
      " [[  79.5          39.5       ]]\n",
      "\n",
      " [[ 119.5          39.5       ]]\n",
      "\n",
      " [[ 159.5          39.5       ]]\n",
      "\n",
      " [[ 199.5          39.49999619]]\n",
      "\n",
      " [[  39.50000381   79.50000763]]\n",
      "\n",
      " [[  79.5          79.5       ]]\n",
      "\n",
      " [[ 119.5          79.5       ]]\n",
      "\n",
      " [[ 159.5          79.5       ]]\n",
      "\n",
      " [[ 199.5          79.49999237]]\n",
      "\n",
      " [[  39.49999619  119.50000763]]\n",
      "\n",
      " [[  79.5         119.5       ]]\n",
      "\n",
      " [[ 119.5         119.5       ]]\n",
      "\n",
      " [[ 159.5         119.5       ]]\n",
      "\n",
      " [[ 199.5         119.49999237]]\n",
      "\n",
      " [[  39.50000381  159.5       ]]\n",
      "\n",
      " [[  79.5         159.5       ]]\n",
      "\n",
      " [[ 119.5         159.5       ]]\n",
      "\n",
      " [[ 159.5         159.5       ]]\n",
      "\n",
      " [[ 199.5         159.5       ]]\n",
      "\n",
      " [[  39.49999619  199.5       ]]\n",
      "\n",
      " [[  79.5         199.5       ]]\n",
      "\n",
      " [[ 119.5         199.5       ]]\n",
      "\n",
      " [[ 159.5         199.5       ]]\n",
      "\n",
      " [[ 199.5         199.5       ]]]\n"
     ]
    }
   ],
   "source": [
    "print corners"
   ]
  },
  {
   "cell_type": "markdown",
   "metadata": {},
   "source": [
    "코너 좌표 정보들 출력"
   ]
  },
  {
   "cell_type": "code",
   "execution_count": 13,
   "metadata": {
    "collapsed": false
   },
   "outputs": [
    {
     "name": "stdout",
     "output_type": "stream",
     "text": [
      "[array([[ 0.,  0.,  0.],\n",
      "       [ 1.,  0.,  0.],\n",
      "       [ 2.,  0.,  0.],\n",
      "       [ 3.,  0.,  0.],\n",
      "       [ 4.,  0.,  0.],\n",
      "       [ 0.,  1.,  0.],\n",
      "       [ 1.,  1.,  0.],\n",
      "       [ 2.,  1.,  0.],\n",
      "       [ 3.,  1.,  0.],\n",
      "       [ 4.,  1.,  0.],\n",
      "       [ 0.,  2.,  0.],\n",
      "       [ 1.,  2.,  0.],\n",
      "       [ 2.,  2.,  0.],\n",
      "       [ 3.,  2.,  0.],\n",
      "       [ 4.,  2.,  0.],\n",
      "       [ 0.,  3.,  0.],\n",
      "       [ 1.,  3.,  0.],\n",
      "       [ 2.,  3.,  0.],\n",
      "       [ 3.,  3.,  0.],\n",
      "       [ 4.,  3.,  0.],\n",
      "       [ 0.,  4.,  0.],\n",
      "       [ 1.,  4.,  0.],\n",
      "       [ 2.,  4.,  0.],\n",
      "       [ 3.,  4.,  0.],\n",
      "       [ 4.,  4.,  0.]], dtype=float32)]\n"
     ]
    }
   ],
   "source": [
    "objectPoints = []\n",
    "objectPoints.append(objp)\n",
    "print objectPoints"
   ]
  },
  {
   "cell_type": "code",
   "execution_count": 15,
   "metadata": {
    "collapsed": false
   },
   "outputs": [
    {
     "name": "stdout",
     "output_type": "stream",
     "text": [
      "[[[  39.5   39.5]]\n",
      "\n",
      " [[  79.5   39.5]]\n",
      "\n",
      " [[ 119.5   39.5]]\n",
      "\n",
      " [[ 159.5   39.5]]\n",
      "\n",
      " [[ 199.5   39.5]]\n",
      "\n",
      " [[  39.5   79.5]]\n",
      "\n",
      " [[  79.5   79.5]]\n",
      "\n",
      " [[ 119.5   79.5]]\n",
      "\n",
      " [[ 159.5   79.5]]\n",
      "\n",
      " [[ 199.5   79.5]]\n",
      "\n",
      " [[  39.5  119.5]]\n",
      "\n",
      " [[  79.5  119.5]]\n",
      "\n",
      " [[ 119.5  119.5]]\n",
      "\n",
      " [[ 159.5  119.5]]\n",
      "\n",
      " [[ 199.5  119.5]]\n",
      "\n",
      " [[  39.5  159.5]]\n",
      "\n",
      " [[  79.5  159.5]]\n",
      "\n",
      " [[ 119.5  159.5]]\n",
      "\n",
      " [[ 159.5  159.5]]\n",
      "\n",
      " [[ 199.5  159.5]]\n",
      "\n",
      " [[  39.5  199.5]]\n",
      "\n",
      " [[  79.5  199.5]]\n",
      "\n",
      " [[ 119.5  199.5]]\n",
      "\n",
      " [[ 159.5  199.5]]\n",
      "\n",
      " [[ 199.5  199.5]]]\n"
     ]
    }
   ],
   "source": [
    "imageShowConers = cv2.cornerSubPix(chessBoardGrayImage, corners, (11, 11), (-1, -1), criteria)\n",
    "print imageShowConers"
   ]
  },
  {
   "cell_type": "markdown",
   "metadata": {},
   "source": [
    "모서리 좌표 데이터 정제 작업"
   ]
  },
  {
   "cell_type": "code",
   "execution_count": 17,
   "metadata": {
    "collapsed": false
   },
   "outputs": [
    {
     "name": "stdout",
     "output_type": "stream",
     "text": [
      "[array([[[  39.5,   39.5]],\n",
      "\n",
      "       [[  79.5,   39.5]],\n",
      "\n",
      "       [[ 119.5,   39.5]],\n",
      "\n",
      "       [[ 159.5,   39.5]],\n",
      "\n",
      "       [[ 199.5,   39.5]],\n",
      "\n",
      "       [[  39.5,   79.5]],\n",
      "\n",
      "       [[  79.5,   79.5]],\n",
      "\n",
      "       [[ 119.5,   79.5]],\n",
      "\n",
      "       [[ 159.5,   79.5]],\n",
      "\n",
      "       [[ 199.5,   79.5]],\n",
      "\n",
      "       [[  39.5,  119.5]],\n",
      "\n",
      "       [[  79.5,  119.5]],\n",
      "\n",
      "       [[ 119.5,  119.5]],\n",
      "\n",
      "       [[ 159.5,  119.5]],\n",
      "\n",
      "       [[ 199.5,  119.5]],\n",
      "\n",
      "       [[  39.5,  159.5]],\n",
      "\n",
      "       [[  79.5,  159.5]],\n",
      "\n",
      "       [[ 119.5,  159.5]],\n",
      "\n",
      "       [[ 159.5,  159.5]],\n",
      "\n",
      "       [[ 199.5,  159.5]],\n",
      "\n",
      "       [[  39.5,  199.5]],\n",
      "\n",
      "       [[  79.5,  199.5]],\n",
      "\n",
      "       [[ 119.5,  199.5]],\n",
      "\n",
      "       [[ 159.5,  199.5]],\n",
      "\n",
      "       [[ 199.5,  199.5]]], dtype=float32)]\n"
     ]
    }
   ],
   "source": [
    "imageDrawPoints = []\n",
    "imageDrawPoints.append(imageShowConers)\n",
    "print imageDrawPoints"
   ]
  },
  {
   "cell_type": "code",
   "execution_count": 18,
   "metadata": {
    "collapsed": true
   },
   "outputs": [],
   "source": [
    "chessBoardImage = cv2.drawChessboardCorners(chessBoardImage, (cornerHeight, cornerWidth), imageShowConers, retangles)"
   ]
  },
  {
   "cell_type": "markdown",
   "metadata": {},
   "source": [
    "체스보드 이미지에 인식한 코너 좌표 데이터들을 기반으로 그림"
   ]
  },
  {
   "cell_type": "code",
   "execution_count": 19,
   "metadata": {
    "collapsed": false
   },
   "outputs": [
    {
     "data": {
      "text/plain": [
       "<matplotlib.image.AxesImage at 0x10dd9b990>"
      ]
     },
     "execution_count": 19,
     "metadata": {},
     "output_type": "execute_result"
    },
    {
     "data": {
      "image/png": "[encoded data removed]",
      "text/plain": [
       "<matplotlib.figure.Figure at 0x10d84a250>"
      ]
     },
     "metadata": {},
     "output_type": "display_data"
    }
   ],
   "source": [
    "plt.imshow(chessBoardImage)"
   ]
  },
  {
   "cell_type": "markdown",
   "metadata": {},
   "source": [
    "결과 출력"
   ]
  }
 ],
 "metadata": {
  "kernelspec": {
   "display_name": "Python 2",
   "language": "python",
   "name": "python2"
  },
  "language_info": {
   "codemirror_mode": {
    "name": "ipython",
    "version": 2
   },
   "file_extension": ".py",
   "mimetype": "text/x-python",
   "name": "python",
   "nbconvert_exporter": "python",
   "pygments_lexer": "ipython2",
   "version": "2.7.10"
  }
 },
 "nbformat": 4,
 "nbformat_minor": 2
}
