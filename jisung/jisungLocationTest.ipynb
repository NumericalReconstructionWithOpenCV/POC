{
 "cells": [
  {
   "cell_type": "code",
   "execution_count": 222,
   "metadata": {
    "collapsed": true
   },
   "outputs": [],
   "source": [
    "import cv2\n",
    "%matplotlib inline\n",
    "from matplotlib import pyplot as plt\n",
    "import numpy as np\n",
    "import math"
   ]
  },
  {
   "cell_type": "code",
   "execution_count": 223,
   "metadata": {
    "collapsed": true
   },
   "outputs": [],
   "source": [
    "locationImage = cv2.imread('10-5-1.png')"
   ]
  },
  {
   "cell_type": "code",
   "execution_count": 224,
   "metadata": {
    "collapsed": true
   },
   "outputs": [],
   "source": [
    "grayImage=cv2.cvtColor(locationImage,cv2.COLOR_BGR2GRAY)"
   ]
  },
  {
   "cell_type": "code",
   "execution_count": 225,
   "metadata": {
    "collapsed": true
   },
   "outputs": [],
   "source": [
    "position=cv2.goodFeaturesToTrack(grayImage,20,0.1,10)"
   ]
  },
  {
   "cell_type": "markdown",
   "metadata": {},
   "source": [
    "좌표점 배열로 정하기 goodFeaturesToTrack(이미지 이름,반환 할 모퉁이의 최대 수,이미지 모서리의 최소 허용 품질(잘모르겠음), 반환 된 모퉁이 사이의 가능한 최소 유클리드)\n",
    "유클리드-점사이의 거리를 구하는 공식(?)"
   ]
  },
  {
   "cell_type": "code",
   "execution_count": 226,
   "metadata": {
    "collapsed": true
   },
   "outputs": [],
   "source": [
    "position2 =np.int0(position)\n",
    "bool=False"
   ]
  },
  {
   "cell_type": "code",
   "execution_count": 227,
   "metadata": {
    "collapsed": false
   },
   "outputs": [],
   "source": [
    "for location in position2:\n",
    "    X, Y = location.ravel()\n",
    "    str=\"%d, %d\" %(Y,X)\n",
    "    cv2.circle(locationImage, (Y, X), 3, (0, 255, 0))\n",
    "    cv2.putText(locationImage, str, (Y-5, X-10), cv2.FONT_HERSHEY_SCRIPT_SIMPLEX, 0.2, (0, 255, 0))\n",
    "    if bool==True: \n",
    "        if x==X:\n",
    "            length=\"%d\" %abs(Y-y)\n",
    "            cv2.putText(locationImage, length, (Y, X), cv2.FONT_HERSHEY_SCRIPT_SIMPLEX, 0.3, (255, 0, 0))\n",
    "        else:\n",
    "            length=\"%d\" %abs(X-x)\n",
    "            cv2.putText(locationImage, length, (Y, X), cv2.FONT_HERSHEY_SCRIPT_SIMPLEX, 0.3, (255, 0, 0))\n",
    "    x=X\n",
    "    y=Y\n",
    "    bool=True"
   ]
  },
  {
   "cell_type": "markdown",
   "metadata": {},
   "source": [
    "str 좌표점 문자열\n",
    "\n",
    "좌표점 점찍기 circle(이미지 이름,좌표,크기,색)\n",
    "\n",
    "좌표점 이미지에 쓰기 putText(이미지이름, 문자열, 문자열을 쓸 좌표, 폰트, 문자열크기, 색)\n",
    "\n",
    "좌표점 사이의 거리 구하기"
   ]
  },
  {
   "cell_type": "code",
   "execution_count": 228,
   "metadata": {
    "collapsed": false
   },
   "outputs": [
    {
     "data": {
      "text/plain": [
       "<matplotlib.image.AxesImage at 0xc9a7940>"
      ]
     },
     "execution_count": 228,
     "metadata": {},
     "output_type": "execute_result"
    },
    {
     "data": {
      "image/png": "[encoded data removed]",
      "text/plain": [
       "<matplotlib.figure.Figure at 0xc9404e0>"
      ]
     },
     "metadata": {},
     "output_type": "display_data"
    }
   ],
   "source": [
    "plt.imshow(locationImage)"
   ]
  },
  {
   "cell_type": "markdown",
   "metadata": {
    "collapsed": true,
    "deletable": true,
    "editable": true
   },
   "source": [
    " 실패"
   ]
  },
  {
   "cell_type": "code",
   "execution_count": null,
   "metadata": {
    "collapsed": true
   },
   "outputs": [],
   "source": []
  }
 ],
 "metadata": {
  "kernelspec": {
   "display_name": "Python 2",
   "language": "python",
   "name": "python2"
  },
  "language_info": {
   "codemirror_mode": {
    "name": "ipython",
    "version": 2
   },
   "file_extension": ".py",
   "mimetype": "text/x-python",
   "name": "python",
   "nbconvert_exporter": "python",
   "pygments_lexer": "ipython2",
   "version": "2.7.13"
  }
 },
 "nbformat": 4,
 "nbformat_minor": 2
}
