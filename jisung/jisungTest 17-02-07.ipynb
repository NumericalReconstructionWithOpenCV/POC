{
 "cells": [
  {
   "cell_type": "code",
   "execution_count": 1,
   "metadata": {
    "collapsed": false,
    "deletable": true,
    "editable": true
   },
   "outputs": [],
   "source": [
    "import cv2\n",
    "%matplotlib inline\n",
    "from matplotlib import pyplot as plt\n",
    "import numpy as np"
   ]
  },
  {
   "cell_type": "code",
   "execution_count": 2,
   "metadata": {
    "collapsed": false,
    "deletable": true,
    "editable": true
   },
   "outputs": [
    {
     "name": "stdout",
     "output_type": "stream",
     "text": [
      "(3, 30, 0.001)\n"
     ]
    }
   ],
   "source": [
    "criteria = (cv2.TERM_CRITERIA_EPS + cv2.TERM_CRITERIA_MAX_ITER, 30, 0.001)\n",
    "print criteria"
   ]
  },
  {
   "cell_type": "code",
   "execution_count": 30,
   "metadata": {
    "collapsed": true
   },
   "outputs": [],
   "source": [
    "cornerWidth = 10\n",
    "cornerHeight = 7"
   ]
  },
  {
   "cell_type": "code",
   "execution_count": 31,
   "metadata": {
    "collapsed": false
   },
   "outputs": [
    {
     "name": "stdout",
     "output_type": "stream",
     "text": [
      "[[ 0.  0.  0.]\n",
      " [ 0.  0.  0.]\n",
      " [ 0.  0.  0.]\n",
      " [ 0.  0.  0.]\n",
      " [ 0.  0.  0.]\n",
      " [ 0.  0.  0.]\n",
      " [ 0.  0.  0.]\n",
      " [ 0.  0.  0.]\n",
      " [ 0.  0.  0.]\n",
      " [ 0.  0.  0.]\n",
      " [ 0.  0.  0.]\n",
      " [ 0.  0.  0.]\n",
      " [ 0.  0.  0.]\n",
      " [ 0.  0.  0.]\n",
      " [ 0.  0.  0.]\n",
      " [ 0.  0.  0.]\n",
      " [ 0.  0.  0.]\n",
      " [ 0.  0.  0.]\n",
      " [ 0.  0.  0.]\n",
      " [ 0.  0.  0.]\n",
      " [ 0.  0.  0.]\n",
      " [ 0.  0.  0.]\n",
      " [ 0.  0.  0.]\n",
      " [ 0.  0.  0.]\n",
      " [ 0.  0.  0.]\n",
      " [ 0.  0.  0.]\n",
      " [ 0.  0.  0.]\n",
      " [ 0.  0.  0.]\n",
      " [ 0.  0.  0.]\n",
      " [ 0.  0.  0.]\n",
      " [ 0.  0.  0.]\n",
      " [ 0.  0.  0.]\n",
      " [ 0.  0.  0.]\n",
      " [ 0.  0.  0.]\n",
      " [ 0.  0.  0.]\n",
      " [ 0.  0.  0.]\n",
      " [ 0.  0.  0.]\n",
      " [ 0.  0.  0.]\n",
      " [ 0.  0.  0.]\n",
      " [ 0.  0.  0.]\n",
      " [ 0.  0.  0.]\n",
      " [ 0.  0.  0.]\n",
      " [ 0.  0.  0.]\n",
      " [ 0.  0.  0.]\n",
      " [ 0.  0.  0.]\n",
      " [ 0.  0.  0.]\n",
      " [ 0.  0.  0.]\n",
      " [ 0.  0.  0.]\n",
      " [ 0.  0.  0.]\n",
      " [ 0.  0.  0.]\n",
      " [ 0.  0.  0.]\n",
      " [ 0.  0.  0.]\n",
      " [ 0.  0.  0.]\n",
      " [ 0.  0.  0.]\n",
      " [ 0.  0.  0.]\n",
      " [ 0.  0.  0.]\n",
      " [ 0.  0.  0.]\n",
      " [ 0.  0.  0.]\n",
      " [ 0.  0.  0.]\n",
      " [ 0.  0.  0.]\n",
      " [ 0.  0.  0.]\n",
      " [ 0.  0.  0.]\n",
      " [ 0.  0.  0.]\n",
      " [ 0.  0.  0.]\n",
      " [ 0.  0.  0.]\n",
      " [ 0.  0.  0.]\n",
      " [ 0.  0.  0.]\n",
      " [ 0.  0.  0.]\n",
      " [ 0.  0.  0.]\n",
      " [ 0.  0.  0.]]\n"
     ]
    }
   ],
   "source": [
    "objp = np.zeros((cornerWidth*cornerHeight,3), np.float32)\n",
    "print objp"
   ]
  },
  {
   "cell_type": "code",
   "execution_count": 32,
   "metadata": {
    "collapsed": false
   },
   "outputs": [
    {
     "name": "stdout",
     "output_type": "stream",
     "text": [
      "[[ 0.  0.  0.]\n",
      " [ 1.  0.  0.]\n",
      " [ 2.  0.  0.]\n",
      " [ 3.  0.  0.]\n",
      " [ 4.  0.  0.]\n",
      " [ 5.  0.  0.]\n",
      " [ 6.  0.  0.]\n",
      " [ 0.  1.  0.]\n",
      " [ 1.  1.  0.]\n",
      " [ 2.  1.  0.]\n",
      " [ 3.  1.  0.]\n",
      " [ 4.  1.  0.]\n",
      " [ 5.  1.  0.]\n",
      " [ 6.  1.  0.]\n",
      " [ 0.  2.  0.]\n",
      " [ 1.  2.  0.]\n",
      " [ 2.  2.  0.]\n",
      " [ 3.  2.  0.]\n",
      " [ 4.  2.  0.]\n",
      " [ 5.  2.  0.]\n",
      " [ 6.  2.  0.]\n",
      " [ 0.  3.  0.]\n",
      " [ 1.  3.  0.]\n",
      " [ 2.  3.  0.]\n",
      " [ 3.  3.  0.]\n",
      " [ 4.  3.  0.]\n",
      " [ 5.  3.  0.]\n",
      " [ 6.  3.  0.]\n",
      " [ 0.  4.  0.]\n",
      " [ 1.  4.  0.]\n",
      " [ 2.  4.  0.]\n",
      " [ 3.  4.  0.]\n",
      " [ 4.  4.  0.]\n",
      " [ 5.  4.  0.]\n",
      " [ 6.  4.  0.]\n",
      " [ 0.  5.  0.]\n",
      " [ 1.  5.  0.]\n",
      " [ 2.  5.  0.]\n",
      " [ 3.  5.  0.]\n",
      " [ 4.  5.  0.]\n",
      " [ 5.  5.  0.]\n",
      " [ 6.  5.  0.]\n",
      " [ 0.  6.  0.]\n",
      " [ 1.  6.  0.]\n",
      " [ 2.  6.  0.]\n",
      " [ 3.  6.  0.]\n",
      " [ 4.  6.  0.]\n",
      " [ 5.  6.  0.]\n",
      " [ 6.  6.  0.]\n",
      " [ 0.  7.  0.]\n",
      " [ 1.  7.  0.]\n",
      " [ 2.  7.  0.]\n",
      " [ 3.  7.  0.]\n",
      " [ 4.  7.  0.]\n",
      " [ 5.  7.  0.]\n",
      " [ 6.  7.  0.]\n",
      " [ 0.  8.  0.]\n",
      " [ 1.  8.  0.]\n",
      " [ 2.  8.  0.]\n",
      " [ 3.  8.  0.]\n",
      " [ 4.  8.  0.]\n",
      " [ 5.  8.  0.]\n",
      " [ 6.  8.  0.]\n",
      " [ 0.  9.  0.]\n",
      " [ 1.  9.  0.]\n",
      " [ 2.  9.  0.]\n",
      " [ 3.  9.  0.]\n",
      " [ 4.  9.  0.]\n",
      " [ 5.  9.  0.]\n",
      " [ 6.  9.  0.]]\n"
     ]
    }
   ],
   "source": [
    "objp[:,:2] = np.mgrid[0:cornerHeight,0:cornerWidth].T.reshape(-1,2)\n",
    "print objp"
   ]
  },
  {
   "cell_type": "code",
   "execution_count": 33,
   "metadata": {
    "collapsed": true
   },
   "outputs": [],
   "source": [
    "chessBoardImage = cv2.imread('calib.jpg')"
   ]
  },
  {
   "cell_type": "code",
   "execution_count": 34,
   "metadata": {
    "collapsed": false
   },
   "outputs": [
    {
     "data": {
      "text/plain": [
       "<matplotlib.image.AxesImage at 0x8c74ed0>"
      ]
     },
     "execution_count": 34,
     "metadata": {},
     "output_type": "execute_result"
    },
    {
     "data": {
      "image/png": "[encoded data removed]",
      "text/plain": [
       "<matplotlib.figure.Figure at 0x86e0190>"
      ]
     },
     "metadata": {},
     "output_type": "display_data"
    }
   ],
   "source": [
    "plt.imshow(chessBoardImage)"
   ]
  },
  {
   "cell_type": "code",
   "execution_count": 35,
   "metadata": {
    "collapsed": true
   },
   "outputs": [],
   "source": [
    "chessBoardGrayImage = cv2.cvtColor(chessBoardImage, cv2.COLOR_RGB2GRAY)"
   ]
  },
  {
   "cell_type": "code",
   "execution_count": 36,
   "metadata": {
    "collapsed": false
   },
   "outputs": [
    {
     "data": {
      "text/plain": [
       "<matplotlib.image.AxesImage at 0x8e5a710>"
      ]
     },
     "execution_count": 36,
     "metadata": {},
     "output_type": "execute_result"
    },
    {
     "data": {
      "image/png": "[encoded data removed]",
      "text/plain": [
       "<matplotlib.figure.Figure at 0x867ae50>"
      ]
     },
     "metadata": {},
     "output_type": "display_data"
    }
   ],
   "source": [
    "plt.imshow(chessBoardGrayImage, cmap = \"gray\")"
   ]
  },
  {
   "cell_type": "code",
   "execution_count": 37,
   "metadata": {
    "collapsed": true
   },
   "outputs": [],
   "source": [
    "retangles, corners = cv2.findChessboardCorners(chessBoardGrayImage, (cornerHeight, cornerWidth), None)"
   ]
  },
  {
   "cell_type": "code",
   "execution_count": 38,
   "metadata": {
    "collapsed": false
   },
   "outputs": [
    {
     "name": "stdout",
     "output_type": "stream",
     "text": [
      "True\n"
     ]
    }
   ],
   "source": [
    "print retangles"
   ]
  },
  {
   "cell_type": "code",
   "execution_count": 39,
   "metadata": {
    "collapsed": false
   },
   "outputs": [
    {
     "name": "stdout",
     "output_type": "stream",
     "text": [
      "[[[  53.75810623  303.82913208]]\n",
      "\n",
      " [[  53.69028854  262.55105591]]\n",
      "\n",
      " [[  53.69150543  221.48982239]]\n",
      "\n",
      " [[  53.6487999   180.17218018]]\n",
      "\n",
      " [[  53.6400528   138.70623779]]\n",
      "\n",
      " [[  53.67001724   97.56033325]]\n",
      "\n",
      " [[  53.65411377   56.46917343]]\n",
      "\n",
      " [[  94.81407928  303.78485107]]\n",
      "\n",
      " [[  94.9852829   262.51782227]]\n",
      "\n",
      " [[  95.00202942  221.47171021]]\n",
      "\n",
      " [[  94.93648529  180.17094421]]\n",
      "\n",
      " [[  94.95417023  138.72312927]]\n",
      "\n",
      " [[  94.99101257   97.56487274]]\n",
      "\n",
      " [[  94.96824646   56.48139954]]\n",
      "\n",
      " [[ 136.1730957   303.81985474]]\n",
      "\n",
      " [[ 136.18461609  262.51220703]]\n",
      "\n",
      " [[ 136.19897461  221.46221924]]\n",
      "\n",
      " [[ 136.15036011  180.17614746]]\n",
      "\n",
      " [[ 136.19856262  138.74171448]]\n",
      "\n",
      " [[ 136.17799377   97.57235718]]\n",
      "\n",
      " [[ 136.17373657   56.47375107]]\n",
      "\n",
      " [[ 177.45022583  303.80584717]]\n",
      "\n",
      " [[ 177.50038147  262.52896118]]\n",
      "\n",
      " [[ 177.48968506  221.44297791]]\n",
      "\n",
      " [[ 177.52198792  180.08491516]]\n",
      "\n",
      " [[ 177.5007019   138.71073914]]\n",
      "\n",
      " [[ 177.48521423   97.57778168]]\n",
      "\n",
      " [[ 177.50091553   56.4498024 ]]\n",
      "\n",
      " [[ 218.56074524  303.81799316]]\n",
      "\n",
      " [[ 218.55046082  262.51663208]]\n",
      "\n",
      " [[ 218.56877136  221.45623779]]\n",
      "\n",
      " [[ 218.54341125  180.08003235]]\n",
      "\n",
      " [[ 218.57174683  138.73928833]]\n",
      "\n",
      " [[ 218.57246399   97.58348083]]\n",
      "\n",
      " [[ 218.53511047   56.42960358]]\n",
      "\n",
      " [[ 259.66415405  303.79983521]]\n",
      "\n",
      " [[ 259.79360962  262.52578735]]\n",
      "\n",
      " [[ 259.77130127  221.46850586]]\n",
      "\n",
      " [[ 259.74755859  180.17932129]]\n",
      "\n",
      " [[ 259.73397827  138.73454285]]\n",
      "\n",
      " [[ 259.76806641   97.55234528]]\n",
      "\n",
      " [[ 259.753479     56.47622681]]\n",
      "\n",
      " [[ 300.96609497  303.77111816]]\n",
      "\n",
      " [[ 300.974823    262.53442383]]\n",
      "\n",
      " [[ 300.99502563  221.47346497]]\n",
      "\n",
      " [[ 300.95718384  180.17355347]]\n",
      "\n",
      " [[ 300.9642334   138.73919678]]\n",
      "\n",
      " [[ 300.98825073   97.55464172]]\n",
      "\n",
      " [[ 300.91949463   56.47200775]]\n",
      "\n",
      " [[ 342.10021973  303.79776001]]\n",
      "\n",
      " [[ 342.19595337  262.5161438 ]]\n",
      "\n",
      " [[ 342.20831299  221.46832275]]\n",
      "\n",
      " [[ 342.20159912  180.19940186]]\n",
      "\n",
      " [[ 342.25018311  138.69604492]]\n",
      "\n",
      " [[ 342.2098999    97.55205536]]\n",
      "\n",
      " [[ 342.20758057   56.48867035]]\n",
      "\n",
      " [[ 383.35668945  303.78530884]]\n",
      "\n",
      " [[ 383.30487061  262.51712036]]\n",
      "\n",
      " [[ 383.31488037  221.46643066]]\n",
      "\n",
      " [[ 383.33847046  180.14730835]]\n",
      "\n",
      " [[ 383.38198853  138.74742126]]\n",
      "\n",
      " [[ 383.31036377   97.57707214]]\n",
      "\n",
      " [[ 383.33752441   56.46092606]]\n",
      "\n",
      " [[ 424.47790527  303.84411621]]\n",
      "\n",
      " [[ 424.50765991  262.52554321]]\n",
      "\n",
      " [[ 424.50708008  221.44242859]]\n",
      "\n",
      " [[ 424.52285767  180.15435791]]\n",
      "\n",
      " [[ 424.50305176  138.7368927 ]]\n",
      "\n",
      " [[ 424.52651978   97.56166077]]\n",
      "\n",
      " [[ 424.52871704   56.442173  ]]]\n"
     ]
    }
   ],
   "source": [
    "print corners"
   ]
  },
  {
   "cell_type": "code",
   "execution_count": 40,
   "metadata": {
    "collapsed": false
   },
   "outputs": [
    {
     "name": "stdout",
     "output_type": "stream",
     "text": [
      "[array([[ 0.,  0.,  0.],\n",
      "       [ 1.,  0.,  0.],\n",
      "       [ 2.,  0.,  0.],\n",
      "       [ 3.,  0.,  0.],\n",
      "       [ 4.,  0.,  0.],\n",
      "       [ 5.,  0.,  0.],\n",
      "       [ 6.,  0.,  0.],\n",
      "       [ 0.,  1.,  0.],\n",
      "       [ 1.,  1.,  0.],\n",
      "       [ 2.,  1.,  0.],\n",
      "       [ 3.,  1.,  0.],\n",
      "       [ 4.,  1.,  0.],\n",
      "       [ 5.,  1.,  0.],\n",
      "       [ 6.,  1.,  0.],\n",
      "       [ 0.,  2.,  0.],\n",
      "       [ 1.,  2.,  0.],\n",
      "       [ 2.,  2.,  0.],\n",
      "       [ 3.,  2.,  0.],\n",
      "       [ 4.,  2.,  0.],\n",
      "       [ 5.,  2.,  0.],\n",
      "       [ 6.,  2.,  0.],\n",
      "       [ 0.,  3.,  0.],\n",
      "       [ 1.,  3.,  0.],\n",
      "       [ 2.,  3.,  0.],\n",
      "       [ 3.,  3.,  0.],\n",
      "       [ 4.,  3.,  0.],\n",
      "       [ 5.,  3.,  0.],\n",
      "       [ 6.,  3.,  0.],\n",
      "       [ 0.,  4.,  0.],\n",
      "       [ 1.,  4.,  0.],\n",
      "       [ 2.,  4.,  0.],\n",
      "       [ 3.,  4.,  0.],\n",
      "       [ 4.,  4.,  0.],\n",
      "       [ 5.,  4.,  0.],\n",
      "       [ 6.,  4.,  0.],\n",
      "       [ 0.,  5.,  0.],\n",
      "       [ 1.,  5.,  0.],\n",
      "       [ 2.,  5.,  0.],\n",
      "       [ 3.,  5.,  0.],\n",
      "       [ 4.,  5.,  0.],\n",
      "       [ 5.,  5.,  0.],\n",
      "       [ 6.,  5.,  0.],\n",
      "       [ 0.,  6.,  0.],\n",
      "       [ 1.,  6.,  0.],\n",
      "       [ 2.,  6.,  0.],\n",
      "       [ 3.,  6.,  0.],\n",
      "       [ 4.,  6.,  0.],\n",
      "       [ 5.,  6.,  0.],\n",
      "       [ 6.,  6.,  0.],\n",
      "       [ 0.,  7.,  0.],\n",
      "       [ 1.,  7.,  0.],\n",
      "       [ 2.,  7.,  0.],\n",
      "       [ 3.,  7.,  0.],\n",
      "       [ 4.,  7.,  0.],\n",
      "       [ 5.,  7.,  0.],\n",
      "       [ 6.,  7.,  0.],\n",
      "       [ 0.,  8.,  0.],\n",
      "       [ 1.,  8.,  0.],\n",
      "       [ 2.,  8.,  0.],\n",
      "       [ 3.,  8.,  0.],\n",
      "       [ 4.,  8.,  0.],\n",
      "       [ 5.,  8.,  0.],\n",
      "       [ 6.,  8.,  0.],\n",
      "       [ 0.,  9.,  0.],\n",
      "       [ 1.,  9.,  0.],\n",
      "       [ 2.,  9.,  0.],\n",
      "       [ 3.,  9.,  0.],\n",
      "       [ 4.,  9.,  0.],\n",
      "       [ 5.,  9.,  0.],\n",
      "       [ 6.,  9.,  0.]], dtype=float32)]\n"
     ]
    }
   ],
   "source": [
    "objectPoints = []\n",
    "objectPoints.append(objp)\n",
    "print objectPoints"
   ]
  },
  {
   "cell_type": "code",
   "execution_count": 41,
   "metadata": {
    "collapsed": false
   },
   "outputs": [
    {
     "name": "stdout",
     "output_type": "stream",
     "text": [
      "[[[  53.74520874  303.81533813]]\n",
      "\n",
      " [[  53.67653656  262.52520752]]\n",
      "\n",
      " [[  53.67686844  221.44299316]]\n",
      "\n",
      " [[  53.66706467  180.17736816]]\n",
      "\n",
      " [[  53.67033386  138.72702026]]\n",
      "\n",
      " [[  53.67196655   97.58905029]]\n",
      "\n",
      " [[  53.67477036   56.45220566]]\n",
      "\n",
      " [[  94.83218384  303.80502319]]\n",
      "\n",
      " [[  94.97154999  262.51651001]]\n",
      "\n",
      " [[  94.9803772   221.44265747]]\n",
      "\n",
      " [[  94.96374512  180.17559814]]\n",
      "\n",
      " [[  94.96257782  138.7310791 ]]\n",
      "\n",
      " [[  94.97257996   97.58973694]]\n",
      "\n",
      " [[  94.96984863   56.45754623]]\n",
      "\n",
      " [[ 136.20779419  303.81356812]]\n",
      "\n",
      " [[ 136.21507263  262.519104  ]]\n",
      "\n",
      " [[ 136.21348572  221.43894958]]\n",
      "\n",
      " [[ 136.20765686  180.17549133]]\n",
      "\n",
      " [[ 136.21281433  138.73300171]]\n",
      "\n",
      " [[ 136.21226501   97.59237671]]\n",
      "\n",
      " [[ 136.21166992   56.45653152]]\n",
      "\n",
      " [[ 177.43231201  303.81121826]]\n",
      "\n",
      " [[ 177.48728943  262.52090454]]\n",
      "\n",
      " [[ 177.48091125  221.4309082 ]]\n",
      "\n",
      " [[ 177.48823547  180.17002869]]\n",
      "\n",
      " [[ 177.48512268  138.7363739 ]]\n",
      "\n",
      " [[ 177.48574829   97.59647369]]\n",
      "\n",
      " [[ 177.48812866   56.45196152]]\n",
      "\n",
      " [[ 218.56469727  303.81365967]]\n",
      "\n",
      " [[ 218.56262207  262.51837158]]\n",
      "\n",
      " [[ 218.56277466  221.4329071 ]]\n",
      "\n",
      " [[ 218.56233215  180.17358398]]\n",
      "\n",
      " [[ 218.56515503  138.7348175 ]]\n",
      "\n",
      " [[ 218.56480408   97.59602356]]\n",
      "\n",
      " [[ 218.5625       56.44690704]]\n",
      "\n",
      " [[ 259.69726562  303.81137085]]\n",
      "\n",
      " [[ 259.77462769  262.51660156]]\n",
      "\n",
      " [[ 259.76434326  221.44125366]]\n",
      "\n",
      " [[ 259.762146    180.18258667]]\n",
      "\n",
      " [[ 259.76116943  138.73472595]]\n",
      "\n",
      " [[ 259.76052856   97.58798981]]\n",
      "\n",
      " [[ 259.76364136   56.45457077]]\n",
      "\n",
      " [[ 300.97161865  303.80776978]]\n",
      "\n",
      " [[ 300.96530151  262.52288818]]\n",
      "\n",
      " [[ 300.97613525  221.43966675]]\n",
      "\n",
      " [[ 300.96801758  180.18243408]]\n",
      "\n",
      " [[ 300.97195435  138.73269653]]\n",
      "\n",
      " [[ 300.9732666    97.59155273]]\n",
      "\n",
      " [[ 300.96798706   56.45671082]]\n",
      "\n",
      " [[ 342.1076355   303.80957031]]\n",
      "\n",
      " [[ 342.22125244  262.51934814]]\n",
      "\n",
      " [[ 342.2210083   221.43887329]]\n",
      "\n",
      " [[ 342.22515869  180.1859436 ]]\n",
      "\n",
      " [[ 342.22262573  138.73223877]]\n",
      "\n",
      " [[ 342.21981812   97.58826447]]\n",
      "\n",
      " [[ 342.22265625   56.45667648]]\n",
      "\n",
      " [[ 383.31988525  303.81604004]]\n",
      "\n",
      " [[ 383.31790161  262.51791382]]\n",
      "\n",
      " [[ 383.31466675  221.44068909]]\n",
      "\n",
      " [[ 383.3196106   180.1783905 ]]\n",
      "\n",
      " [[ 383.32540894  138.7354126 ]]\n",
      "\n",
      " [[ 383.31781006   97.59029388]]\n",
      "\n",
      " [[ 383.32312012   56.45275879]]\n",
      "\n",
      " [[ 424.462677    303.8163147 ]]\n",
      "\n",
      " [[ 424.5144043   262.52420044]]\n",
      "\n",
      " [[ 424.51397705  221.43505859]]\n",
      "\n",
      " [[ 424.51580811  180.17712402]]\n",
      "\n",
      " [[ 424.51361084  138.73925781]]\n",
      "\n",
      " [[ 424.51754761   97.58782959]]\n",
      "\n",
      " [[ 424.51602173   56.45162201]]]\n"
     ]
    }
   ],
   "source": [
    "imageShowConers = cv2.cornerSubPix(chessBoardGrayImage, corners, (11, 11), (-1, -1), criteria)\n",
    "print imageShowConers"
   ]
  },
  {
   "cell_type": "code",
   "execution_count": 42,
   "metadata": {
    "collapsed": false
   },
   "outputs": [
    {
     "name": "stdout",
     "output_type": "stream",
     "text": [
      "[array([[[  53.74520874,  303.81533813]],\n",
      "\n",
      "       [[  53.67653656,  262.52520752]],\n",
      "\n",
      "       [[  53.67686844,  221.44299316]],\n",
      "\n",
      "       [[  53.66706467,  180.17736816]],\n",
      "\n",
      "       [[  53.67033386,  138.72702026]],\n",
      "\n",
      "       [[  53.67196655,   97.58905029]],\n",
      "\n",
      "       [[  53.67477036,   56.45220566]],\n",
      "\n",
      "       [[  94.83218384,  303.80502319]],\n",
      "\n",
      "       [[  94.97154999,  262.51651001]],\n",
      "\n",
      "       [[  94.9803772 ,  221.44265747]],\n",
      "\n",
      "       [[  94.96374512,  180.17559814]],\n",
      "\n",
      "       [[  94.96257782,  138.7310791 ]],\n",
      "\n",
      "       [[  94.97257996,   97.58973694]],\n",
      "\n",
      "       [[  94.96984863,   56.45754623]],\n",
      "\n",
      "       [[ 136.20779419,  303.81356812]],\n",
      "\n",
      "       [[ 136.21507263,  262.519104  ]],\n",
      "\n",
      "       [[ 136.21348572,  221.43894958]],\n",
      "\n",
      "       [[ 136.20765686,  180.17549133]],\n",
      "\n",
      "       [[ 136.21281433,  138.73300171]],\n",
      "\n",
      "       [[ 136.21226501,   97.59237671]],\n",
      "\n",
      "       [[ 136.21166992,   56.45653152]],\n",
      "\n",
      "       [[ 177.43231201,  303.81121826]],\n",
      "\n",
      "       [[ 177.48728943,  262.52090454]],\n",
      "\n",
      "       [[ 177.48091125,  221.4309082 ]],\n",
      "\n",
      "       [[ 177.48823547,  180.17002869]],\n",
      "\n",
      "       [[ 177.48512268,  138.7363739 ]],\n",
      "\n",
      "       [[ 177.48574829,   97.59647369]],\n",
      "\n",
      "       [[ 177.48812866,   56.45196152]],\n",
      "\n",
      "       [[ 218.56469727,  303.81365967]],\n",
      "\n",
      "       [[ 218.56262207,  262.51837158]],\n",
      "\n",
      "       [[ 218.56277466,  221.4329071 ]],\n",
      "\n",
      "       [[ 218.56233215,  180.17358398]],\n",
      "\n",
      "       [[ 218.56515503,  138.7348175 ]],\n",
      "\n",
      "       [[ 218.56480408,   97.59602356]],\n",
      "\n",
      "       [[ 218.5625    ,   56.44690704]],\n",
      "\n",
      "       [[ 259.69726562,  303.81137085]],\n",
      "\n",
      "       [[ 259.77462769,  262.51660156]],\n",
      "\n",
      "       [[ 259.76434326,  221.44125366]],\n",
      "\n",
      "       [[ 259.762146  ,  180.18258667]],\n",
      "\n",
      "       [[ 259.76116943,  138.73472595]],\n",
      "\n",
      "       [[ 259.76052856,   97.58798981]],\n",
      "\n",
      "       [[ 259.76364136,   56.45457077]],\n",
      "\n",
      "       [[ 300.97161865,  303.80776978]],\n",
      "\n",
      "       [[ 300.96530151,  262.52288818]],\n",
      "\n",
      "       [[ 300.97613525,  221.43966675]],\n",
      "\n",
      "       [[ 300.96801758,  180.18243408]],\n",
      "\n",
      "       [[ 300.97195435,  138.73269653]],\n",
      "\n",
      "       [[ 300.9732666 ,   97.59155273]],\n",
      "\n",
      "       [[ 300.96798706,   56.45671082]],\n",
      "\n",
      "       [[ 342.1076355 ,  303.80957031]],\n",
      "\n",
      "       [[ 342.22125244,  262.51934814]],\n",
      "\n",
      "       [[ 342.2210083 ,  221.43887329]],\n",
      "\n",
      "       [[ 342.22515869,  180.1859436 ]],\n",
      "\n",
      "       [[ 342.22262573,  138.73223877]],\n",
      "\n",
      "       [[ 342.21981812,   97.58826447]],\n",
      "\n",
      "       [[ 342.22265625,   56.45667648]],\n",
      "\n",
      "       [[ 383.31988525,  303.81604004]],\n",
      "\n",
      "       [[ 383.31790161,  262.51791382]],\n",
      "\n",
      "       [[ 383.31466675,  221.44068909]],\n",
      "\n",
      "       [[ 383.3196106 ,  180.1783905 ]],\n",
      "\n",
      "       [[ 383.32540894,  138.7354126 ]],\n",
      "\n",
      "       [[ 383.31781006,   97.59029388]],\n",
      "\n",
      "       [[ 383.32312012,   56.45275879]],\n",
      "\n",
      "       [[ 424.462677  ,  303.8163147 ]],\n",
      "\n",
      "       [[ 424.5144043 ,  262.52420044]],\n",
      "\n",
      "       [[ 424.51397705,  221.43505859]],\n",
      "\n",
      "       [[ 424.51580811,  180.17712402]],\n",
      "\n",
      "       [[ 424.51361084,  138.73925781]],\n",
      "\n",
      "       [[ 424.51754761,   97.58782959]],\n",
      "\n",
      "       [[ 424.51602173,   56.45162201]]], dtype=float32)]\n"
     ]
    }
   ],
   "source": [
    "imageDrawPoints = []\n",
    "imageDrawPoints.append(imageShowConers)\n",
    "print imageDrawPoints"
   ]
  },
  {
   "cell_type": "code",
   "execution_count": 43,
   "metadata": {
    "collapsed": true
   },
   "outputs": [],
   "source": [
    "chessBoardImage = cv2.drawChessboardCorners(chessBoardImage, (cornerHeight, cornerWidth), imageShowConers, retangles)"
   ]
  },
  {
   "cell_type": "code",
   "execution_count": 44,
   "metadata": {
    "collapsed": false
   },
   "outputs": [
    {
     "data": {
      "text/plain": [
       "<matplotlib.image.AxesImage at 0x9011770>"
      ]
     },
     "execution_count": 44,
     "metadata": {},
     "output_type": "execute_result"
    },
    {
     "data": {
      "image/png": "[encoded data removed]",
      "text/plain": [
       "<matplotlib.figure.Figure at 0x8c5a390>"
      ]
     },
     "metadata": {},
     "output_type": "display_data"
    }
   ],
   "source": [
    "plt.imshow(chessBoardImage)"
   ]
  },
  {
   "cell_type": "code",
   "execution_count": null,
   "metadata": {
    "collapsed": true
   },
   "outputs": [],
   "source": []
  }
 ],
 "metadata": {
  "kernelspec": {
   "display_name": "Python 2",
   "language": "python",
   "name": "python2"
  },
  "language_info": {
   "codemirror_mode": {
    "name": "ipython",
    "version": 2
   },
   "file_extension": ".py",
   "mimetype": "text/x-python",
   "name": "python",
   "nbconvert_exporter": "python",
   "pygments_lexer": "ipython2",
   "version": "2.7.13"
  }
 },
 "nbformat": 4,
 "nbformat_minor": 2
}
