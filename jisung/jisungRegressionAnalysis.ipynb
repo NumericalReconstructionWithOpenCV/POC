{
 "cells": [
  {
   "cell_type": "code",
   "execution_count": 1,
   "metadata": {
    "collapsed": true
   },
   "outputs": [],
   "source": [
    "from numpy import loadtxt, zeros, ones, array, linspace, logspace\n",
    "from pylab import scatter, show, title, xlabel, ylabel, plot, contour"
   ]
  },
  {
   "cell_type": "code",
   "execution_count": 2,
   "metadata": {
    "collapsed": true
   },
   "outputs": [],
   "source": [
    "#Evaluate the linear regression\n",
    "def compute_cost(X, y, theta):\n",
    "    '''\n",
    "    Comput cost for linear regression\n",
    "    '''\n",
    "    #Number of training samples\n",
    "    m = y.size\n",
    "\n",
    "    predictions = X.dot(theta).flatten()\n",
    "    # x데이터로 추론한 y값 -> 예를 들어 (x,y)가 통상적으로 (10,20) (20,40) 나왔으므로 x가 30이면 y는 60나올것이다, 에서 60\n",
    "\n",
    "    sqErrors = (predictions - y) ** 2\n",
    "    # 오차제곱합, (추정치-실제y값)^2,\n",
    "\n",
    "    J = (1.0 / (2 * m)) * sqErrors.sum()\n",
    "    # 오차제곱합을 이용해 구해낸 기울기 -> 회귀직선의 alpha 값\n",
    "    return J"
   ]
  },
  {
   "cell_type": "code",
   "execution_count": 3,
   "metadata": {
    "collapsed": true
   },
   "outputs": [],
   "source": [
    "def gradient_descent(X, y, theta, alpha, num_iters):\n",
    "    '''\n",
    "    Performs gradient descent to learn theta\n",
    "    by taking num_items gradient steps with learning\n",
    "    rate alpha\n",
    "    '''\n",
    "    # 경사하강법 알고리즘을 이용하여 theta를 학습한다.\n",
    "    \n",
    "    m = y.size\n",
    "    J_history = zeros(shape=(num_iters, 1))\n",
    "\n",
    "    for i in range(num_iters):\n",
    "\n",
    "        predictions = X.dot(theta).flatten()\n",
    "\n",
    "        errors_x1 = (predictions - y) * X[:, 0]\n",
    "        errors_x2 = (predictions - y) * X[:, 1]\n",
    "\n",
    "        theta[0][0] = theta[0][0] - alpha * (1.0 / m) * errors_x1.sum()\n",
    "        theta[1][0] = theta[1][0] - alpha * (1.0 / m) * errors_x2.sum()\n",
    "\n",
    "        J_history[i, 0] = compute_cost(X, y, theta)\n",
    "\n",
    "        #x가 theta 값일 때, j_history라는 최소값이 나온다. -> 회귀직선의 betha값\n",
    "    return theta, J_history"
   ]
  },
  {
   "cell_type": "code",
   "execution_count": 4,
   "metadata": {
    "collapsed": true
   },
   "outputs": [],
   "source": [
    "#Load the dataset\n",
    "data = loadtxt('ex1data1.txt', delimiter=',')\n",
    "# 데이터를 가져온다"
   ]
  },
  {
   "cell_type": "code",
   "execution_count": 5,
   "metadata": {
    "collapsed": true
   },
   "outputs": [],
   "source": [
    "x = data[:, 0]\n",
    "y = data[:, 1]\n",
    "\n",
    "#x는 데이터의 첫번째 열, y는 데이터의 두번째 열"
   ]
  },
  {
   "cell_type": "code",
   "execution_count": 6,
   "metadata": {
    "collapsed": false
   },
   "outputs": [
    {
     "data": {
      "image/png": "[encoded data removed]",
      "text/plain": [
       "<matplotlib.figure.Figure at 0x7f3dcc0>"
      ]
     },
     "metadata": {},
     "output_type": "display_data"
    }
   ],
   "source": [
    "#Plot the data\n",
    "scatter(x, y, marker='o', c='b')\n",
    "title('Profits distribution')\n",
    "xlabel('Population of City in 10,000s')\n",
    "ylabel('Profit in $10,000s')\n",
    "show()\n",
    "# x축: 인구수, y축: 소득"
   ]
  },
  {
   "cell_type": "code",
   "execution_count": 7,
   "metadata": {
    "collapsed": true
   },
   "outputs": [],
   "source": [
    "m = y.size\n",
    "# 데이터의 갯수"
   ]
  },
  {
   "cell_type": "code",
   "execution_count": 8,
   "metadata": {
    "collapsed": true
   },
   "outputs": [],
   "source": [
    "it = ones(shape=(m, 2))\n",
    "it[:, 1] = x"
   ]
  },
  {
   "cell_type": "code",
   "execution_count": 9,
   "metadata": {
    "collapsed": false
   },
   "outputs": [
    {
     "data": {
      "text/plain": [
       "array([[  1.    ,   6.1101],\n",
       "       [  1.    ,   5.5277],\n",
       "       [  1.    ,   8.5186],\n",
       "       [  1.    ,   7.0032],\n",
       "       [  1.    ,   5.8598],\n",
       "       [  1.    ,   8.3829],\n",
       "       [  1.    ,   7.4764],\n",
       "       [  1.    ,   8.5781],\n",
       "       [  1.    ,   6.4862],\n",
       "       [  1.    ,   5.0546],\n",
       "       [  1.    ,   5.7107],\n",
       "       [  1.    ,  14.164 ],\n",
       "       [  1.    ,   5.734 ],\n",
       "       [  1.    ,   8.4084],\n",
       "       [  1.    ,   5.6407],\n",
       "       [  1.    ,   5.3794],\n",
       "       [  1.    ,   6.3654],\n",
       "       [  1.    ,   5.1301],\n",
       "       [  1.    ,   6.4296],\n",
       "       [  1.    ,   7.0708],\n",
       "       [  1.    ,   6.1891],\n",
       "       [  1.    ,  20.27  ],\n",
       "       [  1.    ,   5.4901],\n",
       "       [  1.    ,   6.3261],\n",
       "       [  1.    ,   5.5649],\n",
       "       [  1.    ,  18.945 ],\n",
       "       [  1.    ,  12.828 ],\n",
       "       [  1.    ,  10.957 ],\n",
       "       [  1.    ,  13.176 ],\n",
       "       [  1.    ,  22.203 ],\n",
       "       [  1.    ,   5.2524],\n",
       "       [  1.    ,   6.5894],\n",
       "       [  1.    ,   9.2482],\n",
       "       [  1.    ,   5.8918],\n",
       "       [  1.    ,   8.2111],\n",
       "       [  1.    ,   7.9334],\n",
       "       [  1.    ,   8.0959],\n",
       "       [  1.    ,   5.6063],\n",
       "       [  1.    ,  12.836 ],\n",
       "       [  1.    ,   6.3534],\n",
       "       [  1.    ,   5.4069],\n",
       "       [  1.    ,   6.8825],\n",
       "       [  1.    ,  11.708 ],\n",
       "       [  1.    ,   5.7737],\n",
       "       [  1.    ,   7.8247],\n",
       "       [  1.    ,   7.0931],\n",
       "       [  1.    ,   5.0702],\n",
       "       [  1.    ,   5.8014],\n",
       "       [  1.    ,  11.7   ],\n",
       "       [  1.    ,   5.5416],\n",
       "       [  1.    ,   7.5402],\n",
       "       [  1.    ,   5.3077],\n",
       "       [  1.    ,   7.4239],\n",
       "       [  1.    ,   7.6031],\n",
       "       [  1.    ,   6.3328],\n",
       "       [  1.    ,   6.3589],\n",
       "       [  1.    ,   6.2742],\n",
       "       [  1.    ,   5.6397],\n",
       "       [  1.    ,   9.3102],\n",
       "       [  1.    ,   9.4536],\n",
       "       [  1.    ,   8.8254],\n",
       "       [  1.    ,   5.1793],\n",
       "       [  1.    ,  21.279 ],\n",
       "       [  1.    ,  14.908 ],\n",
       "       [  1.    ,  18.959 ],\n",
       "       [  1.    ,   7.2182],\n",
       "       [  1.    ,   8.2951],\n",
       "       [  1.    ,  10.236 ],\n",
       "       [  1.    ,   5.4994],\n",
       "       [  1.    ,  20.341 ],\n",
       "       [  1.    ,  10.136 ],\n",
       "       [  1.    ,   7.3345],\n",
       "       [  1.    ,   6.0062],\n",
       "       [  1.    ,   7.2259],\n",
       "       [  1.    ,   5.0269],\n",
       "       [  1.    ,   6.5479],\n",
       "       [  1.    ,   7.5386],\n",
       "       [  1.    ,   5.0365],\n",
       "       [  1.    ,  10.274 ],\n",
       "       [  1.    ,   5.1077],\n",
       "       [  1.    ,   5.7292],\n",
       "       [  1.    ,   5.1884],\n",
       "       [  1.    ,   6.3557],\n",
       "       [  1.    ,   9.7687],\n",
       "       [  1.    ,   6.5159],\n",
       "       [  1.    ,   8.5172],\n",
       "       [  1.    ,   9.1802],\n",
       "       [  1.    ,   6.002 ],\n",
       "       [  1.    ,   5.5204],\n",
       "       [  1.    ,   5.0594],\n",
       "       [  1.    ,   5.7077],\n",
       "       [  1.    ,   7.6366],\n",
       "       [  1.    ,   5.8707],\n",
       "       [  1.    ,   5.3054],\n",
       "       [  1.    ,   8.2934],\n",
       "       [  1.    ,  13.394 ],\n",
       "       [  1.    ,   5.4369]])"
      ]
     },
     "execution_count": 9,
     "metadata": {},
     "output_type": "execute_result"
    }
   ],
   "source": [
    "it\n",
    "# it은 데이터 갯수만큼의 2차원 배열인데, 첫번째 열은 1로 채우고 두번째 열은 x로 채운다"
   ]
  },
  {
   "cell_type": "code",
   "execution_count": 10,
   "metadata": {
    "collapsed": true
   },
   "outputs": [],
   "source": [
    "theta = zeros(shape=(2, 1))"
   ]
  },
  {
   "cell_type": "code",
   "execution_count": 11,
   "metadata": {
    "collapsed": false
   },
   "outputs": [
    {
     "data": {
      "text/plain": [
       "array([[ 0.],\n",
       "       [ 0.]])"
      ]
     },
     "execution_count": 11,
     "metadata": {},
     "output_type": "execute_result"
    }
   ],
   "source": [
    "theta\n",
    "# 이차원의 0으로 초기화된 배열"
   ]
  },
  {
   "cell_type": "code",
   "execution_count": 12,
   "metadata": {
    "collapsed": false
   },
   "outputs": [
    {
     "name": "stdout",
     "output_type": "stream",
     "text": [
      "32.0727338775\n"
     ]
    }
   ],
   "source": [
    "iterations = 1500\n",
    "alpha = 0.01\n",
    "print compute_cost(it, y, theta)"
   ]
  },
  {
   "cell_type": "code",
   "execution_count": 13,
   "metadata": {
    "collapsed": false
   },
   "outputs": [
    {
     "name": "stdout",
     "output_type": "stream",
     "text": [
      "[[-3.63029144]\n",
      " [ 1.16636235]]\n"
     ]
    }
   ],
   "source": [
    "theta, J_history = gradient_descent(it, y, theta, alpha, iterations)\n",
    "# 입력한 데이터가 theta일때, j_history라는 최소값이 나온다 -> 선형회귀모형의 b값이 (theta, j_history)에서 결정된다.\n",
    "print theta"
   ]
  },
  {
   "cell_type": "code",
   "execution_count": 14,
   "metadata": {
    "collapsed": false
   },
   "outputs": [
    {
     "name": "stdout",
     "output_type": "stream",
     "text": [
      "For population = 35,000, we predict a profit of 4519.767868\n"
     ]
    }
   ],
   "source": [
    "predict1 = array([1, 3.5]).dot(theta).flatten()\n",
    "print 'For population = 35,000, we predict a profit of %f' % (predict1 * 10000)"
   ]
  },
  {
   "cell_type": "code",
   "execution_count": 15,
   "metadata": {
    "collapsed": false
   },
   "outputs": [
    {
     "name": "stdout",
     "output_type": "stream",
     "text": [
      "For population = 70,000, we predict a profit of 45342.450129\n"
     ]
    }
   ],
   "source": [
    "predict2 = array([1, 7.0]).dot(theta).flatten()\n",
    "print 'For population = 70,000, we predict a profit of %f' % (predict2 * 10000)"
   ]
  },
  {
   "cell_type": "code",
   "execution_count": 16,
   "metadata": {
    "collapsed": false
   },
   "outputs": [
    {
     "data": {
      "image/png": "[encoded data removed]",
      "text/plain": [
       "<matplotlib.figure.Figure at 0x80aa240>"
      ]
     },
     "metadata": {},
     "output_type": "display_data"
    }
   ],
   "source": [
    "result = it.dot(theta).flatten()\n",
    "plot(data[:, 0], result)\n",
    "show()\n",
    "# alpha라는 기울기와 betha라는 상수를 이용해 그려 낸 기울기 완성."
   ]
  },
  {
   "cell_type": "code",
   "execution_count": null,
   "metadata": {
    "collapsed": true
   },
   "outputs": [],
   "source": []
  }
 ],
 "metadata": {
  "kernelspec": {
   "display_name": "Python 2",
   "language": "python",
   "name": "python2"
  },
  "language_info": {
   "codemirror_mode": {
    "name": "ipython",
    "version": 2
   },
   "file_extension": ".py",
   "mimetype": "text/x-python",
   "name": "python",
   "nbconvert_exporter": "python",
   "pygments_lexer": "ipython2",
   "version": "2.7.13"
  }
 },
 "nbformat": 4,
 "nbformat_minor": 2
}
