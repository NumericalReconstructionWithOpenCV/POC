{
 "cells": [
  {
   "cell_type": "markdown",
   "metadata": {},
   "source": [
    "# 머신러닝 회귀분석"
   ]
  },
  {
   "cell_type": "markdown",
   "metadata": {},
   "source": [
    "신체데이터에서 무게를 독립변수, 키를 종속변수로 두어 사람의 무게를 받으면 키를 예측하는 프로그램"
   ]
  },
  {
   "cell_type": "code",
   "execution_count": 18,
   "metadata": {
    "collapsed": false
   },
   "outputs": [],
   "source": [
    "from __future__ import print_function\n",
    "import matplotlib.pyplot as plt\n",
    "import numpy as np\n",
    "from sklearn import linear_model\n",
    "from sklearn.model_selection import train_test_split\n",
    "import pandas as pd\n",
    "%matplotlib inline"
   ]
  },
  {
   "cell_type": "markdown",
   "metadata": {},
   "source": [
    "필요한 모듈 임포트"
   ]
  },
  {
   "cell_type": "code",
   "execution_count": 19,
   "metadata": {
    "collapsed": false
   },
   "outputs": [],
   "source": [
    "baseDatabase = pd.read_csv(\"MilitaryLinearRegressionData2.csv\", index_col=0)"
   ]
  },
  {
   "cell_type": "markdown",
   "metadata": {},
   "source": [
    "데이터 셋 입력"
   ]
  },
  {
   "cell_type": "code",
   "execution_count": 20,
   "metadata": {
    "collapsed": false
   },
   "outputs": [
    {
     "name": "stdout",
     "output_type": "stream",
     "text": [
      "    bust_circ_cm sleeve_len_cm statur_cm wst_circ_cm crotch_hght_cm  \\\n",
      "seq                                                                   \n",
      "1          False         False     False       False          False   \n",
      "1          False         False     False       False          False   \n",
      "2          False         False     False       False          False   \n",
      "2          False         False     False       False          False   \n",
      "3          False         False     False       False          False   \n",
      "3          False         False     False       False          False   \n",
      "4          False         False     False       False          False   \n",
      "4          False         False     False       False          False   \n",
      "5          False         False     False       False          False   \n",
      "5          False         False     False       False          False   \n",
      "6          False         False     False       False          False   \n",
      "6          False         False     False       False          False   \n",
      "7          False         False     False       False          False   \n",
      "7          False         False     False       False          False   \n",
      "8          False         False     False       False          False   \n",
      "8          False         False     False       False          False   \n",
      "9          False         False     False       False          False   \n",
      "9          False         False     False       False          False   \n",
      "10         False         False     False       False          False   \n",
      "10         False         False     False       False          False   \n",
      "11         False         False     False       False          False   \n",
      "11         False         False     False       False          False   \n",
      "12         False         False     False       False          False   \n",
      "12         False         False     False       False          False   \n",
      "13         False         False     False       False          False   \n",
      "13         False         False     False       False          False   \n",
      "14         False         False     False       False          False   \n",
      "14         False         False     False       False          False   \n",
      "15         False         False     False       False          False   \n",
      "15         False         False     False       False          False   \n",
      "16         False         False     False       False          False   \n",
      "16         False         False     False       False          False   \n",
      "17         False         False     False       False          False   \n",
      "17         False         False     False       False          False   \n",
      "18         False         False     False       False          False   \n",
      "18         False         False     False       False          False   \n",
      "19         False         False     False       False          False   \n",
      "19         False         False     False       False          False   \n",
      "20         False         False     False       False          False   \n",
      "20         False         False     False       False          False   \n",
      "21         False         False     False       False          False   \n",
      "21         False         False     False       False          False   \n",
      "22         False         False     False       False          False   \n",
      "22         False         False     False       False          False   \n",
      "23         False         False     False       False          False   \n",
      "23         False         False     False       False          False   \n",
      "24         False         False     False       False          False   \n",
      "24         False         False     False       False          False   \n",
      "25         False         False     False       False          False   \n",
      "\n",
      "    hd_circ_cm foot_len_cm weight_kg  \n",
      "seq                                   \n",
      "1        False       False     False  \n",
      "1        False       False     False  \n",
      "2        False       False     False  \n",
      "2        False       False     False  \n",
      "3        False       False     False  \n",
      "3        False       False     False  \n",
      "4        False       False     False  \n",
      "4        False       False     False  \n",
      "5        False       False     False  \n",
      "5        False       False     False  \n",
      "6        False       False     False  \n",
      "6        False       False     False  \n",
      "7        False       False     False  \n",
      "7        False       False     False  \n",
      "8        False       False     False  \n",
      "8        False       False     False  \n",
      "9        False       False     False  \n",
      "9        False       False     False  \n",
      "10       False       False     False  \n",
      "10       False       False     False  \n",
      "11       False       False     False  \n",
      "11       False       False     False  \n",
      "12       False       False     False  \n",
      "12       False       False     False  \n",
      "13       False       False     False  \n",
      "13       False       False     False  \n",
      "14       False       False     False  \n",
      "14       False       False     False  \n",
      "15       False       False     False  \n",
      "15       False       False     False  \n",
      "16       False       False     False  \n",
      "16       False       False     False  \n",
      "17       False       False     False  \n",
      "17       False       False     False  \n",
      "18       False       False     False  \n",
      "18       False       False     False  \n",
      "19       False       False     False  \n",
      "19       False       False     False  \n",
      "20       False       False     False  \n",
      "20       False       False     False  \n",
      "21       False       False     False  \n",
      "21       False       False     False  \n",
      "22       False       False     False  \n",
      "22       False       False     False  \n",
      "23       False       False     False  \n",
      "23       False       False     False  \n",
      "24       False       False     False  \n",
      "24       False       False     False  \n",
      "25       False       False     False  \n"
     ]
    }
   ],
   "source": [
    "whereIsNull = pd.isnull(baseDatabase)\n",
    "print (whereIsNull)\n",
    "baseDatabase[whereIsNull] = 0"
   ]
  },
  {
   "cell_type": "markdown",
   "metadata": {},
   "source": [
    "데이터 전처리"
   ]
  },
  {
   "cell_type": "code",
   "execution_count": 21,
   "metadata": {
    "collapsed": false
   },
   "outputs": [
    {
     "name": "stdout",
     "output_type": "stream",
     "text": [
      "* baseDatabase.head()\n",
      "     bust_circ_cm  sleeve_len_cm  statur_cm  wst_circ_cm  crotch_hght_cm  \\\n",
      "seq                                                                        \n",
      "1           101.9           83.8      167.2         81.2            74.4   \n",
      "1            96.3           92.6      185.5         82.5            83.8   \n",
      "2            98.6           85.5      171.4         85.9            76.4   \n",
      "2            99.5           89.6      179.9         99.2            84.2   \n",
      "3           122.3           90.2      180.5        118.4            79.7   \n",
      "\n",
      "     hd_circ_cm  foot_len_cm  weight_kg  \n",
      "seq                                      \n",
      "1          55.0         24.2       65.1  \n",
      "1          57.1         28.5       73.2  \n",
      "2          54.5         27.4       71.6  \n",
      "2          56.3         28.1       93.2  \n",
      "3          61.5         29.0      114.2  \n",
      "\n"
     ]
    }
   ],
   "source": [
    "print(\"* baseDatabase.head()\", baseDatabase.head(), sep=\"\\n\", end=\"\\n\\n\")"
   ]
  },
  {
   "cell_type": "markdown",
   "metadata": {},
   "source": [
    "데이터 윗부분 테스트 출력"
   ]
  },
  {
   "cell_type": "code",
   "execution_count": 22,
   "metadata": {
    "collapsed": false
   },
   "outputs": [
    {
     "name": "stdout",
     "output_type": "stream",
     "text": [
      "* baseDatabase.tail()\n",
      "     bust_circ_cm  sleeve_len_cm  statur_cm  wst_circ_cm  crotch_hght_cm  \\\n",
      "seq                                                                        \n",
      "23          107.6           89.3      179.1         95.0            79.2   \n",
      "23           88.9           89.5      179.9         80.8            82.6   \n",
      "24           84.5           86.9      174.5         75.0            77.0   \n",
      "24           88.5           89.5      178.9        112.6            81.9   \n",
      "25          123.3           84.6      169.2        114.7            74.6   \n",
      "\n",
      "     hd_circ_cm  foot_len_cm  weight_kg  \n",
      "seq                                      \n",
      "23         57.6         27.7       88.4  \n",
      "23         55.7         26.5       65.1  \n",
      "24         56.9         25.3       53.1  \n",
      "24         56.1         26.1       58.8  \n",
      "25         61.6         25.5      102.4  \n",
      "\n"
     ]
    }
   ],
   "source": [
    "print(\"* baseDatabase.tail()\", baseDatabase.tail(), sep=\"\\n\", end=\"\\n\\n\")"
   ]
  },
  {
   "cell_type": "markdown",
   "metadata": {},
   "source": [
    "데이터 아랫부분 테스트 출력"
   ]
  },
  {
   "cell_type": "code",
   "execution_count": 23,
   "metadata": {
    "collapsed": false
   },
   "outputs": [
    {
     "data": {
      "text/plain": [
       "Index([u'bust_circ_cm', u'sleeve_len_cm', u'statur_cm', u'wst_circ_cm',\n",
       "       u'crotch_hght_cm', u'hd_circ_cm', u'foot_len_cm', u'weight_kg'],\n",
       "      dtype='object')"
      ]
     },
     "execution_count": 23,
     "metadata": {},
     "output_type": "execute_result"
    }
   ],
   "source": [
    "baseDatabase.columns[:]"
   ]
  },
  {
   "cell_type": "markdown",
   "metadata": {},
   "source": [
    "입력받은 데이터 컬럼명 조사"
   ]
  },
  {
   "cell_type": "code",
   "execution_count": 24,
   "metadata": {
    "collapsed": true
   },
   "outputs": [],
   "source": [
    "xCoordinate = baseDatabase[\"weight_kg\"]"
   ]
  },
  {
   "cell_type": "markdown",
   "metadata": {},
   "source": [
    "무게 데이터를 종속변수로 둠"
   ]
  },
  {
   "cell_type": "code",
   "execution_count": 25,
   "metadata": {
    "collapsed": true
   },
   "outputs": [],
   "source": [
    "yCoordinate = baseDatabase[\"statur_cm\"]"
   ]
  },
  {
   "cell_type": "markdown",
   "metadata": {},
   "source": [
    "키 데이터를 독립변수로 둠"
   ]
  },
  {
   "cell_type": "code",
   "execution_count": 26,
   "metadata": {
    "collapsed": false
   },
   "outputs": [
    {
     "name": "stdout",
     "output_type": "stream",
     "text": [
      "X train :  34  X test :  15\n"
     ]
    }
   ],
   "source": [
    "xCoordinateTrain, xCoordinatetTest = train_test_split(xCoordinate, test_size = 0.3)\n",
    "print(\"X train : \", len(xCoordinateTrain), \" X test : \", len(xCoordinatetTest))"
   ]
  },
  {
   "cell_type": "markdown",
   "metadata": {},
   "source": [
    "70 : 30 으로 트레이닝 데이터, 테스트 데이터로 나눔"
   ]
  },
  {
   "cell_type": "code",
   "execution_count": 27,
   "metadata": {
    "collapsed": false
   },
   "outputs": [
    {
     "name": "stdout",
     "output_type": "stream",
     "text": [
      "Y train :  34  Y test :  15\n"
     ]
    }
   ],
   "source": [
    "yCoordinateTrain, yCoordinateTest = train_test_split(yCoordinate, test_size = 0.3)\n",
    "print(\"Y train : \", len(yCoordinateTrain), \" Y test : \", len(yCoordinateTest))"
   ]
  },
  {
   "cell_type": "markdown",
   "metadata": {},
   "source": [
    "70 : 30 으로 트레이닝 데이터, 테스트 데이터로 나눔"
   ]
  },
  {
   "cell_type": "code",
   "execution_count": 28,
   "metadata": {
    "collapsed": true
   },
   "outputs": [],
   "source": [
    "linearModel = linear_model.LinearRegression()"
   ]
  },
  {
   "cell_type": "markdown",
   "metadata": {},
   "source": [
    "모델링 객체 생성"
   ]
  },
  {
   "cell_type": "code",
   "execution_count": 29,
   "metadata": {
    "collapsed": false
   },
   "outputs": [
    {
     "data": {
      "text/plain": [
       "LinearRegression(copy_X=True, fit_intercept=True, n_jobs=1, normalize=False)"
      ]
     },
     "execution_count": 29,
     "metadata": {},
     "output_type": "execute_result"
    }
   ],
   "source": [
    "linearModel.fit(xCoordinateTrain.to_frame(), yCoordinateTrain.to_frame())"
   ]
  },
  {
   "cell_type": "markdown",
   "metadata": {},
   "source": [
    "모델링"
   ]
  },
  {
   "cell_type": "code",
   "execution_count": 30,
   "metadata": {
    "collapsed": false
   },
   "outputs": [
    {
     "name": "stdout",
     "output_type": "stream",
     "text": [
      "Coefficients: \n",
      " [[ 0.00037015]]\n"
     ]
    }
   ],
   "source": [
    "print('Coefficients: \\n', linearModel.coef_)"
   ]
  },
  {
   "cell_type": "markdown",
   "metadata": {},
   "source": [
    "상관계수 조사"
   ]
  },
  {
   "cell_type": "code",
   "execution_count": 31,
   "metadata": {
    "collapsed": false
   },
   "outputs": [
    {
     "name": "stdout",
     "output_type": "stream",
     "text": [
      "Mean squared error: 21.41\n"
     ]
    }
   ],
   "source": [
    "print(\"Mean squared error: %.2f\"\n",
    "      % np.mean((linearModel.predict(xCoordinatetTest.to_frame()) - yCoordinateTest.to_frame()) ** 2))"
   ]
  },
  {
   "cell_type": "markdown",
   "metadata": {},
   "source": [
    "오류 폭 조사"
   ]
  },
  {
   "cell_type": "code",
   "execution_count": 32,
   "metadata": {
    "collapsed": false
   },
   "outputs": [
    {
     "name": "stdout",
     "output_type": "stream",
     "text": [
      "Variance score: -0.00\n"
     ]
    }
   ],
   "source": [
    "print('Variance score: %.2f' % linearModel.score(xCoordinatetTest.to_frame(), yCoordinateTest.to_frame()))"
   ]
  },
  {
   "cell_type": "markdown",
   "metadata": {},
   "source": [
    "분산이 왜 이딴식이지"
   ]
  },
  {
   "cell_type": "code",
   "execution_count": 33,
   "metadata": {
    "collapsed": false
   },
   "outputs": [
    {
     "data": {
      "text/plain": [
       "<matplotlib.collections.PathCollection at 0x20b861d0>"
      ]
     },
     "execution_count": 33,
     "metadata": {},
     "output_type": "execute_result"
    },
    {
     "data": {
      "image/png": "[encoded data removed]",
      "text/plain": [
       "<matplotlib.figure.Figure at 0x1dfa23c8>"
      ]
     },
     "metadata": {},
     "output_type": "display_data"
    }
   ],
   "source": [
    "plt.scatter(xCoordinatetTest.to_frame(), yCoordinateTest.to_frame(),  color='black')"
   ]
  },
  {
   "cell_type": "markdown",
   "metadata": {},
   "source": [
    "plot 출력"
   ]
  },
  {
   "cell_type": "code",
   "execution_count": 34,
   "metadata": {
    "collapsed": false
   },
   "outputs": [
    {
     "data": {
      "text/plain": [
       "[<matplotlib.lines.Line2D at 0x20cbb828>]"
      ]
     },
     "execution_count": 34,
     "metadata": {},
     "output_type": "execute_result"
    },
    {
     "data": {
      "image/png": "[encoded data removed]",
      "text/plain": [
       "<matplotlib.figure.Figure at 0x2102aba8>"
      ]
     },
     "metadata": {},
     "output_type": "display_data"
    }
   ],
   "source": [
    "plt.plot(xCoordinatetTest.to_frame(), linearModel.predict(xCoordinatetTest.to_frame()), color='blue',\n",
    "         linewidth=3)"
   ]
  },
  {
   "cell_type": "markdown",
   "metadata": {},
   "source": [
    "회귀 직선 출력"
   ]
  }
 ],
 "metadata": {
  "kernelspec": {
   "display_name": "Python 2",
   "language": "python",
   "name": "python2"
  },
  "language_info": {
   "codemirror_mode": {
    "name": "ipython",
    "version": 2
   },
   "file_extension": ".py",
   "mimetype": "text/x-python",
   "name": "python",
   "nbconvert_exporter": "python",
   "pygments_lexer": "ipython2",
   "version": "2.7.13"
  }
 },
 "nbformat": 4,
 "nbformat_minor": 2
}
