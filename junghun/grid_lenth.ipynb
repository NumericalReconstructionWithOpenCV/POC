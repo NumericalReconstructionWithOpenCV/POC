{
 "cells": [
  {
   "cell_type": "code",
   "execution_count": 91,
   "metadata": {
    "collapsed": true
   },
   "outputs": [],
   "source": [
    "import cv2\n",
    "%matplotlib inline\n",
    "from matplotlib import pyplot as plt\n",
    "import numpy as np\n",
    "import glob"
   ]
  },
  {
   "cell_type": "code",
   "execution_count": 92,
   "metadata": {
    "collapsed": false
   },
   "outputs": [
    {
     "name": "stdout",
     "output_type": "stream",
     "text": [
      "(3, 30, 0.001)\n"
     ]
    }
   ],
   "source": [
    "criteria = (cv2.TERM_CRITERIA_EPS + cv2.TERM_CRITERIA_MAX_ITER, 30, 0.001)\n",
    "print criteria"
   ]
  },
  {
   "cell_type": "code",
   "execution_count": 93,
   "metadata": {
    "collapsed": true
   },
   "outputs": [],
   "source": [
    "cornerWidth = 5\n",
    "cornerHeight = 5"
   ]
  },
  {
   "cell_type": "code",
   "execution_count": 94,
   "metadata": {
    "collapsed": false
   },
   "outputs": [
    {
     "name": "stdout",
     "output_type": "stream",
     "text": [
      "[[ 0.  0.  0.]\n",
      " [ 0.  0.  0.]\n",
      " [ 0.  0.  0.]\n",
      " [ 0.  0.  0.]\n",
      " [ 0.  0.  0.]\n",
      " [ 0.  0.  0.]\n",
      " [ 0.  0.  0.]\n",
      " [ 0.  0.  0.]\n",
      " [ 0.  0.  0.]\n",
      " [ 0.  0.  0.]\n",
      " [ 0.  0.  0.]\n",
      " [ 0.  0.  0.]\n",
      " [ 0.  0.  0.]\n",
      " [ 0.  0.  0.]\n",
      " [ 0.  0.  0.]\n",
      " [ 0.  0.  0.]\n",
      " [ 0.  0.  0.]\n",
      " [ 0.  0.  0.]\n",
      " [ 0.  0.  0.]\n",
      " [ 0.  0.  0.]\n",
      " [ 0.  0.  0.]\n",
      " [ 0.  0.  0.]\n",
      " [ 0.  0.  0.]\n",
      " [ 0.  0.  0.]\n",
      " [ 0.  0.  0.]]\n"
     ]
    }
   ],
   "source": [
    "objp = np.zeros((cornerWidth*cornerHeight,3), np.float32)\n",
    "print objp"
   ]
  },
  {
   "cell_type": "code",
   "execution_count": 95,
   "metadata": {
    "collapsed": false
   },
   "outputs": [
    {
     "name": "stdout",
     "output_type": "stream",
     "text": [
      "[[ 0.  0.  0.]\n",
      " [ 1.  0.  0.]\n",
      " [ 2.  0.  0.]\n",
      " [ 3.  0.  0.]\n",
      " [ 4.  0.  0.]\n",
      " [ 0.  1.  0.]\n",
      " [ 1.  1.  0.]\n",
      " [ 2.  1.  0.]\n",
      " [ 3.  1.  0.]\n",
      " [ 4.  1.  0.]\n",
      " [ 0.  2.  0.]\n",
      " [ 1.  2.  0.]\n",
      " [ 2.  2.  0.]\n",
      " [ 3.  2.  0.]\n",
      " [ 4.  2.  0.]\n",
      " [ 0.  3.  0.]\n",
      " [ 1.  3.  0.]\n",
      " [ 2.  3.  0.]\n",
      " [ 3.  3.  0.]\n",
      " [ 4.  3.  0.]\n",
      " [ 0.  4.  0.]\n",
      " [ 1.  4.  0.]\n",
      " [ 2.  4.  0.]\n",
      " [ 3.  4.  0.]\n",
      " [ 4.  4.  0.]]\n"
     ]
    }
   ],
   "source": [
    "objp[:,:2] = np.mgrid[0:cornerHeight,0:cornerWidth].T.reshape(-1,2)\n",
    "print objp"
   ]
  },
  {
   "cell_type": "code",
   "execution_count": 96,
   "metadata": {
    "collapsed": true
   },
   "outputs": [],
   "source": [
    "gridImg = cv2.imread('testview.jpg')"
   ]
  },
  {
   "cell_type": "code",
   "execution_count": 97,
   "metadata": {
    "collapsed": false
   },
   "outputs": [
    {
     "data": {
      "text/plain": [
       "<matplotlib.image.AxesImage at 0xa5b6d30>"
      ]
     },
     "execution_count": 97,
     "metadata": {},
     "output_type": "execute_result"
    },
    {
     "data": {
      "image/png": "[encoded data removed]",
      "text/plain": [
       "<matplotlib.figure.Figure at 0x7929a10>"
      ]
     },
     "metadata": {},
     "output_type": "display_data"
    }
   ],
   "source": [
    "gridImg = cv2.cvtColor(gridImg, cv2.COLOR_RGB2GRAY)\n",
    "plt.imshow(gridImg, cmap = \"gray\")"
   ]
  },
  {
   "cell_type": "code",
   "execution_count": 99,
   "metadata": {
    "collapsed": false
   },
   "outputs": [],
   "source": [
    "retangles, corners = cv2.findChessboardCorners(gridImg, (cornerHeight, cornerWidth), None)"
   ]
  },
  {
   "cell_type": "code",
   "execution_count": 100,
   "metadata": {
    "collapsed": false
   },
   "outputs": [
    {
     "name": "stdout",
     "output_type": "stream",
     "text": [
      "False\n"
     ]
    }
   ],
   "source": [
    "print retangles"
   ]
  },
  {
   "cell_type": "code",
   "execution_count": 101,
   "metadata": {
    "collapsed": false
   },
   "outputs": [
    {
     "name": "stdout",
     "output_type": "stream",
     "text": [
      "[[[ 324.5  329. ]]\n",
      "\n",
      " [[ 434.   328. ]]\n",
      "\n",
      " [[ 328.   434.5]]\n",
      "\n",
      " [[ 218.   430. ]]\n",
      "\n",
      " [[ 223.   324. ]]\n",
      "\n",
      " [[ 319.5  434. ]]\n",
      "\n",
      " [[ 217.5  224. ]]\n",
      "\n",
      " [[ 319.5  218. ]]\n",
      "\n",
      " [[ 325.   319. ]]\n",
      "\n",
      " [[ 218.   214. ]]\n",
      "\n",
      " [[ 109.   319. ]]\n",
      "\n",
      " [[   3.5  325.5]]\n",
      "\n",
      " [[ 112.   222. ]]\n",
      "\n",
      " [[ 213.5  323. ]]\n",
      "\n",
      " [[ 108.   328.5]]\n",
      "\n",
      " [[ 112.   431. ]]\n",
      "\n",
      " [[ 324.5  113. ]]\n",
      "\n",
      " [[ 217.5  440. ]]\n",
      "\n",
      " [[ 328.   218.5]]\n",
      "\n",
      " [[ 430.   221. ]]\n",
      "\n",
      " [[ 434.5  319.5]]\n",
      "\n",
      " [[ 222.5  540.5]]\n",
      "\n",
      " [[ 325.   535. ]]]\n"
     ]
    }
   ],
   "source": [
    "print corners"
   ]
  },
  {
   "cell_type": "code",
   "execution_count": 102,
   "metadata": {
    "collapsed": false
   },
   "outputs": [
    {
     "name": "stdout",
     "output_type": "stream",
     "text": [
      "[array([[ 0.,  0.,  0.],\n",
      "       [ 1.,  0.,  0.],\n",
      "       [ 2.,  0.,  0.],\n",
      "       [ 3.,  0.,  0.],\n",
      "       [ 4.,  0.,  0.],\n",
      "       [ 0.,  1.,  0.],\n",
      "       [ 1.,  1.,  0.],\n",
      "       [ 2.,  1.,  0.],\n",
      "       [ 3.,  1.,  0.],\n",
      "       [ 4.,  1.,  0.],\n",
      "       [ 0.,  2.,  0.],\n",
      "       [ 1.,  2.,  0.],\n",
      "       [ 2.,  2.,  0.],\n",
      "       [ 3.,  2.,  0.],\n",
      "       [ 4.,  2.,  0.],\n",
      "       [ 0.,  3.,  0.],\n",
      "       [ 1.,  3.,  0.],\n",
      "       [ 2.,  3.,  0.],\n",
      "       [ 3.,  3.,  0.],\n",
      "       [ 4.,  3.,  0.],\n",
      "       [ 0.,  4.,  0.],\n",
      "       [ 1.,  4.,  0.],\n",
      "       [ 2.,  4.,  0.],\n",
      "       [ 3.,  4.,  0.],\n",
      "       [ 4.,  4.,  0.]], dtype=float32)]\n"
     ]
    }
   ],
   "source": [
    "objectPoints = []\n",
    "objectPoints.append(objp)\n",
    "print objectPoints"
   ]
  },
  {
   "cell_type": "code",
   "execution_count": 103,
   "metadata": {
    "collapsed": false
   },
   "outputs": [
    {
     "ename": "NameError",
     "evalue": "name 'imageShowConers' is not defined",
     "output_type": "error",
     "traceback": [
      "\u001b[0;31m---------------------------------------------------------------------------\u001b[0m",
      "\u001b[0;31mNameError\u001b[0m                                 Traceback (most recent call last)",
      "\u001b[0;32m<ipython-input-103-409ebd681f65>\u001b[0m in \u001b[0;36m<module>\u001b[0;34m()\u001b[0m\n\u001b[1;32m      1\u001b[0m \u001b[0mimageDrawPoints\u001b[0m \u001b[1;33m=\u001b[0m \u001b[1;33m[\u001b[0m\u001b[1;33m]\u001b[0m\u001b[1;33m\u001b[0m\u001b[0m\n\u001b[0;32m----> 2\u001b[0;31m \u001b[0mimageDrawPoints\u001b[0m\u001b[1;33m.\u001b[0m\u001b[0mappend\u001b[0m\u001b[1;33m(\u001b[0m\u001b[0mimageShowConers\u001b[0m\u001b[1;33m)\u001b[0m\u001b[1;33m\u001b[0m\u001b[0m\n\u001b[0m\u001b[1;32m      3\u001b[0m \u001b[1;32mprint\u001b[0m \u001b[0mimageDrawPoints\u001b[0m\u001b[1;33m\u001b[0m\u001b[0m\n",
      "\u001b[0;31mNameError\u001b[0m: name 'imageShowConers' is not defined"
     ]
    }
   ],
   "source": [
    "imageDrawPoints = []\n",
    "imageDrawPoints.append(imageShowConers)\n",
    "print imageDrawPoints"
   ]
  },
  {
   "cell_type": "code",
   "execution_count": null,
   "metadata": {
    "collapsed": true
   },
   "outputs": [],
   "source": []
  }
 ],
 "metadata": {
  "kernelspec": {
   "display_name": "Python 2",
   "language": "python",
   "name": "python2"
  },
  "language_info": {
   "codemirror_mode": {
    "name": "ipython",
    "version": 2
   },
   "file_extension": ".py",
   "mimetype": "text/x-python",
   "name": "python",
   "nbconvert_exporter": "python",
   "pygments_lexer": "ipython2",
   "version": "2.7.13"
  }
 },
 "nbformat": 4,
 "nbformat_minor": 2
}
