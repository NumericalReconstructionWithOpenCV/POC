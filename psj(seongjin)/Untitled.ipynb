{
 "cells": [
  {
   "cell_type": "code",
   "execution_count": 6,
   "metadata": {
    "collapsed": false
   },
   "outputs": [
    {
     "name": "stdout",
     "output_type": "stream",
     "text": [
      "unknow option\n"
     ]
    }
   ],
   "source": [
    "#-*- coding: utf-8 -*-\n",
    "import cv2\n",
    "import numpy as np\n",
    "import glob\n",
    "import sys\n",
    "\n",
    "FNAME = 'digits.npz'\n",
    "\n",
    "def machineLearning():\n",
    "    img = cv2.imread('images/digits.png')\n",
    "    gray = cv2.cvtColor(img, cv2.COLOR_BGR2GRAY)\n",
    "\n",
    "    cells = [np.hsplit(row,100) for row in np.vsplit(gray,50)]\n",
    "    x = np.array(cells)\n",
    "    train = x[:,:].reshape(-1,400).astype(np.float32)\n",
    "\n",
    "    k = np.arange(10)\n",
    "    train_labels = np.repeat(k,500)[:,np.newaxis]\n",
    "\n",
    "    np.savez(FNAME,train=train,train_labels = train_labels)\n",
    "\n",
    "def resize20(pimg):\n",
    "    img = cv2.imread(pimg)\n",
    "    gray = cv2.cvtColor(img, cv2.COLOR_BGR2GRAY)\n",
    "    grayResize = cv2.resize(gray,(20,20))\n",
    "    ret, thresh = cv2.threshold(grayResize, 125, 255,cv2.THRESH_BINARY_INV)\n",
    "\n",
    "    cv2.imshow('num',thresh)\n",
    "    return thresh.reshape(-1,400).astype(np.float32)\n",
    "\n",
    "def loadTrainData(fname):\n",
    "    with np.load(fname) as data:\n",
    "        train = data['train']\n",
    "        train_labels = data['train_labels']\n",
    "\n",
    "    return train, train_labels\n",
    "\n",
    "def checkDigit(test, train, train_labels):\n",
    "    knn = cv2.ml.KNearest_create()\n",
    "    knn.train(train, cv2.ml.ROW_SAMPLE, train_labels)\n",
    "\n",
    "    ret, result, neighbours, dist = knn.findNearest(test, k=5)\n",
    "\n",
    "    return result\n",
    "\n",
    "if __name__ == '__main__':\n",
    "    if len(sys.argv) == 1:\n",
    "        print 'option : train or test'\n",
    "        exit(1)\n",
    "    elif sys.argv[1] == 'train':\n",
    "        machineLearning()\n",
    "    elif sys.argv[1] == 'test':\n",
    "        train, train_labels = loadTrainData(FNAME)\n",
    "\n",
    "        saveNpz = False\n",
    "        for fname in glob.glob('images/num*.png'):\n",
    "            test = resize20(fname)\n",
    "            result = checkDigit(test, train, train_labels)\n",
    "\n",
    "            print result\n",
    "\n",
    "            k = cv2.waitKey(0)\n",
    "\n",
    "            if k > 47 and k<58:\n",
    "                saveNpz = True\n",
    "                train = np.append(train, test, axis=0)\n",
    "                newLabel = np.array(int(chr(k))).reshape(-1,1)\n",
    "                train_labels = np.append(train_labels, newLabel,axis=0)\n",
    "\n",
    "\n",
    "        cv2.destroyAllWindows()\n",
    "        if saveNpz:\n",
    "            np.savez(FNAME,train=train, train_labels=train_labels)\n",
    "    else:\n",
    "        print 'unknow option'\n",
    "     "
   ]
  },
  {
   "cell_type": "code",
   "execution_count": null,
   "metadata": {
    "collapsed": true
   },
   "outputs": [],
   "source": []
  }
 ],
 "metadata": {
  "kernelspec": {
   "display_name": "Python 2",
   "language": "python",
   "name": "python2"
  },
  "language_info": {
   "codemirror_mode": {
    "name": "ipython",
    "version": 2
   },
   "file_extension": ".py",
   "mimetype": "text/x-python",
   "name": "python",
   "nbconvert_exporter": "python",
   "pygments_lexer": "ipython2",
   "version": "2.7.13"
  }
 },
 "nbformat": 4,
 "nbformat_minor": 2
}
