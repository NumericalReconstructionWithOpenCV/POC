{
 "cells": [
  {
   "cell_type": "code",
   "execution_count": 7,
   "metadata": {
    "collapsed": true,
    "deletable": true,
    "editable": true
   },
   "outputs": [],
   "source": [
    "import numpy as np\n",
    "%matplotlib inline\n",
    "from matplotlib import pyplot as plt\n",
    "import cv2"
   ]
  },
  {
   "cell_type": "markdown",
   "metadata": {
    "deletable": true,
    "editable": true
   },
   "source": [
    "임포트"
   ]
  },
  {
   "cell_type": "code",
   "execution_count": 8,
   "metadata": {
    "collapsed": true,
    "deletable": true,
    "editable": true
   },
   "outputs": [],
   "source": [
    "img = cv2.imread('data/houghline.png')\n",
    "gray = cv2.cvtColor(img,cv2.COLOR_BGR2GRAY)\n",
    "gray = 255 - gray"
   ]
  },
  {
   "cell_type": "markdown",
   "metadata": {},
   "source": [
    "이미지 로드 및 흑백으로 전환\n",
    "\n",
    "gray = 255 - gray : 이미지 모서리가 외곽선으로 검출되는 것을 막아줌 (배경이 검은색일 때 한함)"
   ]
  },
  {
   "cell_type": "code",
   "execution_count": 9,
   "metadata": {
    "collapsed": true,
    "deletable": true,
    "editable": true
   },
   "outputs": [],
   "source": [
    "ret, thresh = cv2.threshold(gray, 127, 255, 1)"
   ]
  },
  {
   "cell_type": "markdown",
   "metadata": {},
   "source": [
    "threshold로 보정시킨 이미지를 이용함"
   ]
  },
  {
   "cell_type": "code",
   "execution_count": 10,
   "metadata": {
    "collapsed": true,
    "deletable": true,
    "editable": true
   },
   "outputs": [],
   "source": [
    "_, contours, h = cv2.findContours(thresh, cv2.RETR_LIST, cv2.CHAIN_APPROX_SIMPLE)"
   ]
  },
  {
   "cell_type": "markdown",
   "metadata": {
    "collapsed": true,
    "deletable": true,
    "editable": true
   },
   "source": [
    "외곽선 검출하여 contours에 입력"
   ]
  },
  {
   "cell_type": "code",
   "execution_count": 11,
   "metadata": {
    "collapsed": false,
    "deletable": true,
    "editable": true
   },
   "outputs": [
    {
     "name": "stdout",
     "output_type": "stream",
     "text": [
      "4\n",
      "square\n",
      "4\n",
      "square\n",
      "4\n",
      "square\n",
      "4\n",
      "square\n",
      "4\n",
      "square\n",
      "4\n",
      "square\n",
      "4\n",
      "square\n",
      "4\n",
      "square\n",
      "4\n",
      "square\n",
      "4\n",
      "square\n",
      "4\n",
      "square\n",
      "4\n",
      "square\n",
      "4\n",
      "square\n",
      "4\n",
      "square\n",
      "4\n",
      "square\n",
      "4\n",
      "square\n",
      "4\n",
      "square\n",
      "4\n",
      "square\n",
      "4\n",
      "square\n",
      "4\n",
      "square\n",
      "4\n",
      "square\n",
      "4\n",
      "square\n",
      "4\n",
      "square\n",
      "4\n",
      "square\n",
      "4\n",
      "square\n",
      "4\n",
      "square\n",
      "4\n",
      "square\n",
      "4\n",
      "square\n",
      "4\n",
      "square\n",
      "4\n",
      "square\n",
      "4\n",
      "square\n",
      "4\n",
      "square\n",
      "4\n",
      "square\n",
      "4\n",
      "square\n",
      "4\n",
      "square\n",
      "4\n",
      "square\n",
      "4\n",
      "square\n",
      "4\n",
      "square\n",
      "4\n",
      "square\n",
      "4\n",
      "square\n",
      "4\n",
      "square\n",
      "4\n",
      "square\n",
      "4\n",
      "square\n",
      "4\n",
      "square\n",
      "4\n",
      "square\n",
      "4\n",
      "square\n",
      "4\n",
      "square\n",
      "4\n",
      "square\n",
      "4\n",
      "square\n",
      "4\n",
      "square\n",
      "4\n",
      "square\n",
      "4\n",
      "square\n",
      "4\n",
      "square\n",
      "4\n",
      "square\n",
      "4\n",
      "square\n",
      "4\n",
      "square\n",
      "4\n",
      "square\n"
     ]
    }
   ],
   "source": [
    "for count in contours:\n",
    "    approx = cv2.approxPolyDP(count, 0.01 * cv2.arcLength(count, True), True)\n",
    "    print len(approx)\n",
    "    if len(approx) == 5 :\n",
    "        print \"pentagon\"\n",
    "        cv2.drawContours(img, [count], 0, (255, 0, 0), -1)\n",
    "    elif len(approx) == 3 :\n",
    "        print \"triangle\"\n",
    "        cv2.drawContours(img, [count], 0, (0, 255, 0), -1)\n",
    "    elif len(approx) == 4 :\n",
    "        print \"square\"\n",
    "        cv2.drawContours(img, [count], 0, (0, 0, 255), -1)\n",
    "    elif len(approx) == 9 :\n",
    "        print \"half-circle\"\n",
    "        #cv2.drawContours(img, [count], 0, (255, 255, 0), -1)\n",
    "    elif len(approx) > 15 :\n",
    "        print \"circle\"\n",
    "        #cv2.drawContours(img, [count], 0, (0, 255, 255), -1)"
   ]
  },
  {
   "cell_type": "markdown",
   "metadata": {},
   "source": [
    "외곽선 정보에 approxPolyDP 함수로 도형의 모양 판별하고 결과를 이미지에 그림\n",
    "\n",
    "격자 내 대부분은 사각형 정상 판별되나 오각형으로 판별하기도 함\n",
    "\n",
    "흰색 경계 전체도 도형으로 검출되는데 이 결과를 빼기 위해 원 모양은 이미지에 그려넣지 않음"
   ]
  },
  {
   "cell_type": "code",
   "execution_count": 12,
   "metadata": {
    "collapsed": false
   },
   "outputs": [
    {
     "data": {
      "text/plain": [
       "<matplotlib.image.AxesImage at 0x7578fd0>"
      ]
     },
     "execution_count": 12,
     "metadata": {},
     "output_type": "execute_result"
    },
    {
     "data": {
      "image/png": "[encoded data removed]",
      "text/plain": [
       "<matplotlib.figure.Figure at 0x76ca198>"
      ]
     },
     "metadata": {},
     "output_type": "display_data"
    }
   ],
   "source": [
    "plt.imshow(img)\n",
    "# cv2.imwrite('data/r_detectshape.png', img)"
   ]
  },
  {
   "cell_type": "markdown",
   "metadata": {},
   "source": [
    "적색은 오각형, 청색은 사각형"
   ]
  }
 ],
 "metadata": {
  "celltoolbar": "Raw Cell Format",
  "kernelspec": {
   "display_name": "Python 2",
   "language": "python",
   "name": "python2"
  },
  "language_info": {
   "codemirror_mode": {
    "name": "ipython",
    "version": 2
   },
   "file_extension": ".py",
   "mimetype": "text/x-python",
   "name": "python",
   "nbconvert_exporter": "python",
   "pygments_lexer": "ipython2",
   "version": "2.7.13"
  }
 },
 "nbformat": 4,
 "nbformat_minor": 2
}
