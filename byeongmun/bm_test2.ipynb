{
 "cells": [
  {
   "cell_type": "code",
   "execution_count": 12,
   "metadata": {
    "collapsed": false,
    "deletable": true,
    "editable": true
   },
   "outputs": [
    {
     "name": "stdout",
     "output_type": "stream",
     "text": [
      "[[[681  96 694  90]]\n",
      "\n",
      " [[657 106 677  98]]\n",
      "\n",
      " [[768  59 779  54]]\n",
      "\n",
      " ..., \n",
      " [[503 391 514 391]]\n",
      "\n",
      " [[299 112 299 100]]\n",
      "\n",
      " [[185 286 185 271]]]\n"
     ]
    },
    {
     "data": {
      "text/plain": [
       "True"
      ]
     },
     "execution_count": 12,
     "metadata": {},
     "output_type": "execute_result"
    }
   ],
   "source": [
    "import cv2\n",
    "import numpy as np\n",
    "\n",
    "img = cv2.imread('data/building.jpg')\n",
    "gray = cv2.cvtColor(img, cv2.COLOR_BGR2GRAY)\n",
    "edges = cv2.Canny(gray, 50, 200, apertureSize = 3)\n",
    "clone_img = cv2.cvtColor(edges, cv2.COLOR_GRAY2BGR)\n",
    "\n",
    "minLineLength = 30\n",
    "maxLineGap = 10\n",
    "\n",
    "'''\n",
    "lines = cv2.HoughLines(edges, 1, np.pi/180, 100)\n",
    "for rho, theta in lines[0]:\n",
    "    a = np.cos(theta)\n",
    "    b = np.sin(theta)\n",
    "    x0 = a * rho\n",
    "    y0 = b * rho\n",
    "    x1 = int(x0 + 1000 * (-b))\n",
    "    y1 = int(y0 + 1000 * (a))\n",
    "    x2 = int(x0 - 1000 * (-b))\n",
    "    y2 = int(y0 - 1000 * (a))\n",
    "\n",
    "    cv2.line(img, (x1, y1), (x2, y2), (0, 0, 255), 3)\n",
    "    cv2.line(clone_img, (x1, y1), (x2, y2), (0, 255, 0), 3)\n",
    "'''\n",
    "\n",
    "lines = cv2.HoughLinesP(edges, 1, np.pi/180, 80, minLineLength, maxLineGap)\n",
    "for x in range(0, len(lines)):\n",
    "    for x1, y1, x2, y2 in lines[x]:\n",
    "        cv2.line(img, (x1, y1), (x2, y2), (0, 255, 0), 3)\n",
    "        cv2.line(clone_img, (x1, y1), (x2, y2), (0, 255, 0), 3)\n",
    "\n",
    "print lines\n",
    "\n",
    "cv2.imwrite('data/houghlines3.jpg', img)\n",
    "cv2.imwrite('data/houghlines3_clone.jpg', clone_img)"
   ]
  },
  {
   "cell_type": "code",
   "execution_count": null,
   "metadata": {
    "collapsed": true,
    "deletable": true,
    "editable": true
   },
   "outputs": [],
   "source": []
  }
 ],
 "metadata": {
  "kernelspec": {
   "display_name": "Python 2",
   "language": "python",
   "name": "python2"
  },
  "language_info": {
   "codemirror_mode": {
    "name": "ipython",
    "version": 2
   },
   "file_extension": ".py",
   "mimetype": "text/x-python",
   "name": "python",
   "nbconvert_exporter": "python",
   "pygments_lexer": "ipython2",
   "version": "2.7.13"
  }
 },
 "nbformat": 4,
 "nbformat_minor": 2
}
