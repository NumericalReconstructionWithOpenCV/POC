{
 "cells": [
  {
   "cell_type": "code",
   "execution_count": 1,
   "metadata": {
    "collapsed": false,
    "deletable": true,
    "editable": true
   },
   "outputs": [],
   "source": [
    "import cv2\n",
    "%matplotlib inline\n",
    "from matplotlib import pyplot as plt\n",
    "import numpy as np \n",
    "import cv2 "
   ]
  },
  {
   "cell_type": "code",
   "execution_count": 2,
   "metadata": {
    "collapsed": false,
    "deletable": true,
    "editable": true
   },
   "outputs": [
    {
     "name": "stdout",
     "output_type": "stream",
     "text": [
      "(3, 30, 0.001)\n"
     ]
    }
   ],
   "source": [
    "criteria = (cv2.TERM_CRITERIA_EPS + cv2.TERM_CRITERIA_MAX_ITER, 30, 0.001)\n",
    "print criteria"
   ]
  },
  {
   "cell_type": "code",
   "execution_count": 3,
   "metadata": {
    "collapsed": true,
    "deletable": true,
    "editable": true
   },
   "outputs": [],
   "source": [
    "cornerWidth = 5\n",
    "cornerHeight = 5\n",
    "cnt = 0"
   ]
  },
  {
   "cell_type": "code",
   "execution_count": 4,
   "metadata": {
    "collapsed": false,
    "deletable": true,
    "editable": true
   },
   "outputs": [
    {
     "name": "stdout",
     "output_type": "stream",
     "text": [
      "[[ 0.  0.  0.]\n",
      " [ 0.  0.  0.]\n",
      " [ 0.  0.  0.]\n",
      " [ 0.  0.  0.]\n",
      " [ 0.  0.  0.]\n",
      " [ 0.  0.  0.]\n",
      " [ 0.  0.  0.]\n",
      " [ 0.  0.  0.]\n",
      " [ 0.  0.  0.]\n",
      " [ 0.  0.  0.]\n",
      " [ 0.  0.  0.]\n",
      " [ 0.  0.  0.]\n",
      " [ 0.  0.  0.]\n",
      " [ 0.  0.  0.]\n",
      " [ 0.  0.  0.]\n",
      " [ 0.  0.  0.]\n",
      " [ 0.  0.  0.]\n",
      " [ 0.  0.  0.]\n",
      " [ 0.  0.  0.]\n",
      " [ 0.  0.  0.]\n",
      " [ 0.  0.  0.]\n",
      " [ 0.  0.  0.]\n",
      " [ 0.  0.  0.]\n",
      " [ 0.  0.  0.]\n",
      " [ 0.  0.  0.]]\n"
     ]
    }
   ],
   "source": [
    "objp = np.zeros((cornerWidth*cornerHeight,3), np.float32)\n",
    "print objp"
   ]
  },
  {
   "cell_type": "code",
   "execution_count": 5,
   "metadata": {
    "collapsed": false,
    "deletable": true,
    "editable": true
   },
   "outputs": [
    {
     "name": "stdout",
     "output_type": "stream",
     "text": [
      "[[ 0.  0.  0.]\n",
      " [ 1.  0.  0.]\n",
      " [ 2.  0.  0.]\n",
      " [ 3.  0.  0.]\n",
      " [ 4.  0.  0.]\n",
      " [ 0.  1.  0.]\n",
      " [ 1.  1.  0.]\n",
      " [ 2.  1.  0.]\n",
      " [ 3.  1.  0.]\n",
      " [ 4.  1.  0.]\n",
      " [ 0.  2.  0.]\n",
      " [ 1.  2.  0.]\n",
      " [ 2.  2.  0.]\n",
      " [ 3.  2.  0.]\n",
      " [ 4.  2.  0.]\n",
      " [ 0.  3.  0.]\n",
      " [ 1.  3.  0.]\n",
      " [ 2.  3.  0.]\n",
      " [ 3.  3.  0.]\n",
      " [ 4.  3.  0.]\n",
      " [ 0.  4.  0.]\n",
      " [ 1.  4.  0.]\n",
      " [ 2.  4.  0.]\n",
      " [ 3.  4.  0.]\n",
      " [ 4.  4.  0.]]\n"
     ]
    }
   ],
   "source": [
    "objp[:,:2] = np.mgrid[0:cornerHeight,0:cornerWidth].T.reshape(-1,2)\n",
    "print objp"
   ]
  },
  {
   "cell_type": "code",
   "execution_count": 6,
   "metadata": {
    "collapsed": true,
    "deletable": true,
    "editable": true
   },
   "outputs": [],
   "source": [
    "chessBoardImage = cv2.imread('격자무늬.jpg')"
   ]
  },
  {
   "cell_type": "code",
   "execution_count": 7,
   "metadata": {
    "collapsed": false,
    "deletable": true,
    "editable": true
   },
   "outputs": [],
   "source": [
    "chessBoardGrayImage = cv2.cvtColor(chessBoardImage, cv2.COLOR_RGB2GRAY)"
   ]
  },
  {
   "cell_type": "code",
   "execution_count": 8,
   "metadata": {
    "collapsed": false,
    "deletable": true,
    "editable": true
   },
   "outputs": [
    {
     "data": {
      "text/plain": [
       "<matplotlib.image.AxesImage at 0x108f63810>"
      ]
     },
     "execution_count": 8,
     "metadata": {},
     "output_type": "execute_result"
    },
    {
     "data": {
      "image/png": "[encoded data removed]",
      "text/plain": [
       "<matplotlib.figure.Figure at 0x1082646d0>"
      ]
     },
     "metadata": {},
     "output_type": "display_data"
    }
   ],
   "source": [
    "plt.imshow(chessBoardGrayImage, cmap = \"gray\")"
   ]
  },
  {
   "cell_type": "code",
   "execution_count": 9,
   "metadata": {
    "collapsed": false,
    "deletable": true,
    "editable": true
   },
   "outputs": [],
   "source": [
    "retangles, corners = cv2.findChessboardCorners(chessBoardGrayImage, (cornerHeight, cornerWidth), None)"
   ]
  },
  {
   "cell_type": "code",
   "execution_count": 10,
   "metadata": {
    "collapsed": false,
    "deletable": true,
    "editable": true
   },
   "outputs": [
    {
     "name": "stdout",
     "output_type": "stream",
     "text": [
      "False\n"
     ]
    }
   ],
   "source": [
    "print retangles"
   ]
  },
  {
   "cell_type": "code",
   "execution_count": 11,
   "metadata": {
    "collapsed": false,
    "deletable": true,
    "editable": true
   },
   "outputs": [
    {
     "name": "stdout",
     "output_type": "stream",
     "text": [
      "[[[ 324.5  329. ]]\n",
      "\n",
      " [[ 434.   328. ]]\n",
      "\n",
      " [[ 328.   434.5]]\n",
      "\n",
      " [[ 218.   430. ]]\n",
      "\n",
      " [[ 223.   324. ]]\n",
      "\n",
      " [[ 319.5  434. ]]\n",
      "\n",
      " [[ 217.5  224. ]]\n",
      "\n",
      " [[ 319.5  218. ]]\n",
      "\n",
      " [[ 325.   319. ]]\n",
      "\n",
      " [[ 218.   214. ]]\n",
      "\n",
      " [[ 109.   319. ]]\n",
      "\n",
      " [[   3.5  325.5]]\n",
      "\n",
      " [[ 112.   222. ]]\n",
      "\n",
      " [[ 213.5  323. ]]\n",
      "\n",
      " [[ 108.   328.5]]\n",
      "\n",
      " [[ 112.   431. ]]\n",
      "\n",
      " [[ 324.5  113. ]]\n",
      "\n",
      " [[ 217.5  440. ]]\n",
      "\n",
      " [[ 328.   218.5]]\n",
      "\n",
      " [[ 430.   221. ]]\n",
      "\n",
      " [[ 434.5  319.5]]\n",
      "\n",
      " [[ 222.5  540.5]]\n",
      "\n",
      " [[ 325.   535. ]]]\n"
     ]
    }
   ],
   "source": [
    "print corners"
   ]
  },
  {
   "cell_type": "code",
   "execution_count": 12,
   "metadata": {
    "collapsed": false,
    "deletable": true,
    "editable": true
   },
   "outputs": [
    {
     "name": "stdout",
     "output_type": "stream",
     "text": [
      "[array([[ 0.,  0.,  0.],\n",
      "       [ 1.,  0.,  0.],\n",
      "       [ 2.,  0.,  0.],\n",
      "       [ 3.,  0.,  0.],\n",
      "       [ 4.,  0.,  0.],\n",
      "       [ 0.,  1.,  0.],\n",
      "       [ 1.,  1.,  0.],\n",
      "       [ 2.,  1.,  0.],\n",
      "       [ 3.,  1.,  0.],\n",
      "       [ 4.,  1.,  0.],\n",
      "       [ 0.,  2.,  0.],\n",
      "       [ 1.,  2.,  0.],\n",
      "       [ 2.,  2.,  0.],\n",
      "       [ 3.,  2.,  0.],\n",
      "       [ 4.,  2.,  0.],\n",
      "       [ 0.,  3.,  0.],\n",
      "       [ 1.,  3.,  0.],\n",
      "       [ 2.,  3.,  0.],\n",
      "       [ 3.,  3.,  0.],\n",
      "       [ 4.,  3.,  0.],\n",
      "       [ 0.,  4.,  0.],\n",
      "       [ 1.,  4.,  0.],\n",
      "       [ 2.,  4.,  0.],\n",
      "       [ 3.,  4.,  0.],\n",
      "       [ 4.,  4.,  0.]], dtype=float32)]\n"
     ]
    }
   ],
   "source": [
    "objectPoints = []\n",
    "objectPoints.append(objp)\n",
    "print objectPoints"
   ]
  },
  {
   "cell_type": "code",
   "execution_count": 13,
   "metadata": {
    "collapsed": false,
    "deletable": true,
    "editable": true
   },
   "outputs": [
    {
     "name": "stdout",
     "output_type": "stream",
     "text": [
      "[[[ 324.50048828  325.00543213]]\n",
      "\n",
      " [[ 433.49432373  325.00195312]]\n",
      "\n",
      " [[ 324.49880981  432.99136353]]\n",
      "\n",
      " [[ 216.50079346  432.98080444]]\n",
      "\n",
      " [[ 216.4936676   325.01416016]]\n",
      "\n",
      " [[ 324.49880981  432.99157715]]\n",
      "\n",
      " [[ 216.50079346  216.98182678]]\n",
      "\n",
      " [[ 324.49880981  216.99156189]]\n",
      "\n",
      " [[ 324.50048828  325.00384521]]\n",
      "\n",
      " [[ 216.50079346  216.98078918]]\n",
      "\n",
      " [[ 108.50048065  325.00384521]]\n",
      "\n",
      " [[   2.63793683  325.0098877 ]]\n",
      "\n",
      " [[ 108.49881744  216.99128723]]\n",
      "\n",
      " [[ 216.49368286  325.01428223]]\n",
      "\n",
      " [[ 108.50048065  325.00540161]]\n",
      "\n",
      " [[ 108.49880219  432.99017334]]\n",
      "\n",
      " [[ 324.50048828  109.00543213]]\n",
      "\n",
      " [[ 216.50079346  432.98181152]]\n",
      "\n",
      " [[ 324.49880981  216.99134827]]\n",
      "\n",
      " [[ 433.496521    216.9924469 ]]\n",
      "\n",
      " [[ 433.49432373  324.99990845]]\n",
      "\n",
      " [[ 216.4936676   541.01446533]]\n",
      "\n",
      " [[ 324.50048828  541.00384521]]]\n"
     ]
    }
   ],
   "source": [
    "imageShowConers = cv2.cornerSubPix(chessBoardGrayImage, corners, (11, 11), (-1, -1), criteria)\n",
    "print imageShowConers"
   ]
  },
  {
   "cell_type": "code",
   "execution_count": 14,
   "metadata": {
    "collapsed": false,
    "deletable": true,
    "editable": true
   },
   "outputs": [
    {
     "name": "stdout",
     "output_type": "stream",
     "text": [
      "[array([[[ 324.50048828,  325.00543213]],\n",
      "\n",
      "       [[ 433.49432373,  325.00195312]],\n",
      "\n",
      "       [[ 324.49880981,  432.99136353]],\n",
      "\n",
      "       [[ 216.50079346,  432.98080444]],\n",
      "\n",
      "       [[ 216.4936676 ,  325.01416016]],\n",
      "\n",
      "       [[ 324.49880981,  432.99157715]],\n",
      "\n",
      "       [[ 216.50079346,  216.98182678]],\n",
      "\n",
      "       [[ 324.49880981,  216.99156189]],\n",
      "\n",
      "       [[ 324.50048828,  325.00384521]],\n",
      "\n",
      "       [[ 216.50079346,  216.98078918]],\n",
      "\n",
      "       [[ 108.50048065,  325.00384521]],\n",
      "\n",
      "       [[   2.63793683,  325.0098877 ]],\n",
      "\n",
      "       [[ 108.49881744,  216.99128723]],\n",
      "\n",
      "       [[ 216.49368286,  325.01428223]],\n",
      "\n",
      "       [[ 108.50048065,  325.00540161]],\n",
      "\n",
      "       [[ 108.49880219,  432.99017334]],\n",
      "\n",
      "       [[ 324.50048828,  109.00543213]],\n",
      "\n",
      "       [[ 216.50079346,  432.98181152]],\n",
      "\n",
      "       [[ 324.49880981,  216.99134827]],\n",
      "\n",
      "       [[ 433.496521  ,  216.9924469 ]],\n",
      "\n",
      "       [[ 433.49432373,  324.99990845]],\n",
      "\n",
      "       [[ 216.4936676 ,  541.01446533]],\n",
      "\n",
      "       [[ 324.50048828,  541.00384521]]], dtype=float32)]\n"
     ]
    }
   ],
   "source": [
    "imageDrawPoints = []\n",
    "imageDrawPoints.append(imageShowConers)\n",
    "print imageDrawPoints"
   ]
  },
  {
   "cell_type": "code",
   "execution_count": 15,
   "metadata": {
    "collapsed": false,
    "deletable": true,
    "editable": true
   },
   "outputs": [],
   "source": [
    "chessBoardImage = cv2.drawChessboardCorners(chessBoardImage, (cornerHeight, cornerWidth), imageShowConers, retangles)"
   ]
  },
  {
   "cell_type": "code",
   "execution_count": 16,
   "metadata": {
    "collapsed": false,
    "deletable": true,
    "editable": true
   },
   "outputs": [
    {
     "data": {
      "text/plain": [
       "<matplotlib.image.AxesImage at 0x10cba8f50>"
      ]
     },
     "execution_count": 16,
     "metadata": {},
     "output_type": "execute_result"
    },
    {
     "data": {
      "image/png": "[encoded data removed]",
      "text/plain": [
       "<matplotlib.figure.Figure at 0x10c308190>"
      ]
     },
     "metadata": {},
     "output_type": "display_data"
    }
   ],
   "source": [
    "plt.imshow(chessBoardImage)"
   ]
  },
  {
   "cell_type": "code",
   "execution_count": 26,
   "metadata": {
    "collapsed": false,
    "deletable": true,
    "editable": true
   },
   "outputs": [
    {
     "ename": "IndexError",
     "evalue": "list index out of range",
     "output_type": "error",
     "traceback": [
      "\u001b[0;31m---------------------------------------------------------------------------\u001b[0m",
      "\u001b[0;31mIndexError\u001b[0m                                Traceback (most recent call last)",
      "\u001b[0;32m<ipython-input-26-6d2b20da04ff>\u001b[0m in \u001b[0;36m<module>\u001b[0;34m()\u001b[0m\n\u001b[1;32m      3\u001b[0m \u001b[0mimageSumPoints\u001b[0m \u001b[0;34m=\u001b[0m \u001b[0;34m[\u001b[0m\u001b[0;34m]\u001b[0m\u001b[0;34m\u001b[0m\u001b[0m\n\u001b[1;32m      4\u001b[0m \u001b[0;32mfor\u001b[0m \u001b[0mi\u001b[0m \u001b[0;32min\u001b[0m \u001b[0mrange\u001b[0m\u001b[0;34m(\u001b[0m\u001b[0;36m2\u001b[0m\u001b[0;34m,\u001b[0m\u001b[0;36m5\u001b[0m\u001b[0;34m)\u001b[0m \u001b[0;34m:\u001b[0m\u001b[0;34m\u001b[0m\u001b[0m\n\u001b[0;32m----> 5\u001b[0;31m     \u001b[0ma\u001b[0m \u001b[0;34m=\u001b[0m \u001b[0mimageDrawPoints\u001b[0m\u001b[0;34m[\u001b[0m\u001b[0mi\u001b[0m\u001b[0;34m-\u001b[0m\u001b[0;36m1\u001b[0m\u001b[0;34m]\u001b[0m\u001b[0;34m[\u001b[0m\u001b[0;36m1\u001b[0m\u001b[0;34m]\u001b[0m\u001b[0;34m[\u001b[0m\u001b[0;36m1\u001b[0m\u001b[0;34m]\u001b[0m \u001b[0;34m+\u001b[0m \u001b[0mimageDrawPoints\u001b[0m\u001b[0;34m[\u001b[0m\u001b[0mi\u001b[0m\u001b[0;34m]\u001b[0m\u001b[0;34m[\u001b[0m\u001b[0;36m1\u001b[0m\u001b[0;34m]\u001b[0m\u001b[0;34m[\u001b[0m\u001b[0;36m1\u001b[0m\u001b[0;34m]\u001b[0m\u001b[0;34m\u001b[0m\u001b[0m\n\u001b[0m\u001b[1;32m      6\u001b[0m     \u001b[0mimageSumPoints\u001b[0m\u001b[0;34m[\u001b[0m\u001b[0mi\u001b[0m\u001b[0;34m]\u001b[0m \u001b[0;34m=\u001b[0m \u001b[0ma\u001b[0m\u001b[0;34m\u001b[0m\u001b[0m\n\u001b[1;32m      7\u001b[0m \u001b[0;34m\u001b[0m\u001b[0m\n",
      "\u001b[0;31mIndexError\u001b[0m: list index out of range"
     ]
    }
   ],
   "source": [
    "imageDrawPoints = []\n",
    "imageDrawPoints.append(imageShowConers)\n",
    "imageSumPoints = [] \n",
    "for i in range(2,5) : \n",
    "    a = imageDrawPoints[i-1][1][1] + imageDrawPoints[i][1][1]\n",
    "    imageSumPoints[i] = a\n",
    "\n",
    "print imageSumPoints"
   ]
  },
  {
   "cell_type": "code",
   "execution_count": null,
   "metadata": {
    "collapsed": true
   },
   "outputs": [],
   "source": []
  }
 ],
 "metadata": {
  "kernelspec": {
   "display_name": "Python 2",
   "language": "python",
   "name": "python2"
  },
  "language_info": {
   "codemirror_mode": {
    "name": "ipython",
    "version": 2
   },
   "file_extension": ".py",
   "mimetype": "text/x-python",
   "name": "python",
   "nbconvert_exporter": "python",
   "pygments_lexer": "ipython2",
   "version": "2.7.13"
  }
 },
 "nbformat": 4,
 "nbformat_minor": 2
}
