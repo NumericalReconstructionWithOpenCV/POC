{
 "cells": [
  {
   "cell_type": "code",
   "execution_count": 16,
   "metadata": {
    "collapsed": true,
    "deletable": true,
    "editable": true,
    "slideshow": {
     "slide_type": "-"
    }
   },
   "outputs": [],
   "source": [
    "import cv2\n",
    "%matplotlib inline\n",
    "from matplotlib import pyplot as plt\n",
    "import numpy as np"
   ]
  },
  {
   "cell_type": "code",
   "execution_count": 17,
   "metadata": {
    "collapsed": false,
    "deletable": true,
    "editable": true
   },
   "outputs": [
    {
     "name": "stdout",
     "output_type": "stream",
     "text": [
      "(3, 30, 0.001)\n"
     ]
    }
   ],
   "source": [
    "criteria = (cv2.TERM_CRITERIA_EPS + cv2.TERM_CRITERIA_MAX_ITER, 30, 0.001)\n",
    "print criteria"
   ]
  },
  {
   "cell_type": "code",
   "execution_count": 18,
   "metadata": {
    "collapsed": true,
    "deletable": true,
    "editable": true
   },
   "outputs": [],
   "source": [
    "cornerWidth = 5\n",
    "cornerHeight = 5"
   ]
  },
  {
   "cell_type": "code",
   "execution_count": 19,
   "metadata": {
    "collapsed": false,
    "deletable": true,
    "editable": true
   },
   "outputs": [
    {
     "name": "stdout",
     "output_type": "stream",
     "text": [
      "[[ 0.  0.  0.]\n",
      " [ 0.  0.  0.]\n",
      " [ 0.  0.  0.]\n",
      " [ 0.  0.  0.]\n",
      " [ 0.  0.  0.]\n",
      " [ 0.  0.  0.]\n",
      " [ 0.  0.  0.]\n",
      " [ 0.  0.  0.]\n",
      " [ 0.  0.  0.]\n",
      " [ 0.  0.  0.]\n",
      " [ 0.  0.  0.]\n",
      " [ 0.  0.  0.]\n",
      " [ 0.  0.  0.]\n",
      " [ 0.  0.  0.]\n",
      " [ 0.  0.  0.]\n",
      " [ 0.  0.  0.]\n",
      " [ 0.  0.  0.]\n",
      " [ 0.  0.  0.]\n",
      " [ 0.  0.  0.]\n",
      " [ 0.  0.  0.]\n",
      " [ 0.  0.  0.]\n",
      " [ 0.  0.  0.]\n",
      " [ 0.  0.  0.]\n",
      " [ 0.  0.  0.]\n",
      " [ 0.  0.  0.]]\n"
     ]
    }
   ],
   "source": [
    "objp = np.zeros((cornerWidth*cornerHeight,3), np.float32)\n",
    "print objp"
   ]
  },
  {
   "cell_type": "code",
   "execution_count": 20,
   "metadata": {
    "collapsed": false,
    "deletable": true,
    "editable": true
   },
   "outputs": [
    {
     "name": "stdout",
     "output_type": "stream",
     "text": [
      "[[ 0.  0.  0.]\n",
      " [ 1.  0.  0.]\n",
      " [ 2.  0.  0.]\n",
      " [ 3.  0.  0.]\n",
      " [ 4.  0.  0.]\n",
      " [ 0.  1.  0.]\n",
      " [ 1.  1.  0.]\n",
      " [ 2.  1.  0.]\n",
      " [ 3.  1.  0.]\n",
      " [ 4.  1.  0.]\n",
      " [ 0.  2.  0.]\n",
      " [ 1.  2.  0.]\n",
      " [ 2.  2.  0.]\n",
      " [ 3.  2.  0.]\n",
      " [ 4.  2.  0.]\n",
      " [ 0.  3.  0.]\n",
      " [ 1.  3.  0.]\n",
      " [ 2.  3.  0.]\n",
      " [ 3.  3.  0.]\n",
      " [ 4.  3.  0.]\n",
      " [ 0.  4.  0.]\n",
      " [ 1.  4.  0.]\n",
      " [ 2.  4.  0.]\n",
      " [ 3.  4.  0.]\n",
      " [ 4.  4.  0.]]\n"
     ]
    }
   ],
   "source": [
    "objp[:,:2] = np.mgrid[0:cornerHeight,0:cornerWidth].T.reshape(-1,2)\n",
    "print objp"
   ]
  },
  {
   "cell_type": "code",
   "execution_count": 21,
   "metadata": {
    "collapsed": true,
    "deletable": true,
    "editable": true
   },
   "outputs": [],
   "source": [
    "chessBoardImage = cv2.imread('data/chessboard.png')"
   ]
  },
  {
   "cell_type": "code",
   "execution_count": 22,
   "metadata": {
    "collapsed": false,
    "deletable": true,
    "editable": true,
    "scrolled": true
   },
   "outputs": [
    {
     "ename": "TypeError",
     "evalue": "Image data can not convert to float",
     "output_type": "error",
     "traceback": [
      "\u001b[0;31m---------------------------------------------------------------------------\u001b[0m",
      "\u001b[0;31mTypeError\u001b[0m                                 Traceback (most recent call last)",
      "\u001b[0;32m<ipython-input-22-27f83fb6df0b>\u001b[0m in \u001b[0;36m<module>\u001b[0;34m()\u001b[0m\n\u001b[0;32m----> 1\u001b[0;31m \u001b[0mplt\u001b[0m\u001b[1;33m.\u001b[0m\u001b[0mimshow\u001b[0m\u001b[1;33m(\u001b[0m\u001b[0mchessBoardImage\u001b[0m\u001b[1;33m)\u001b[0m\u001b[1;33m\u001b[0m\u001b[0m\n\u001b[0m",
      "\u001b[0;32mc:\\python27\\lib\\site-packages\\matplotlib\\pyplot.pyc\u001b[0m in \u001b[0;36mimshow\u001b[0;34m(X, cmap, norm, aspect, interpolation, alpha, vmin, vmax, origin, extent, shape, filternorm, filterrad, imlim, resample, url, hold, data, **kwargs)\u001b[0m\n\u001b[1;32m   3156\u001b[0m                         \u001b[0mfilternorm\u001b[0m\u001b[1;33m=\u001b[0m\u001b[0mfilternorm\u001b[0m\u001b[1;33m,\u001b[0m \u001b[0mfilterrad\u001b[0m\u001b[1;33m=\u001b[0m\u001b[0mfilterrad\u001b[0m\u001b[1;33m,\u001b[0m\u001b[1;33m\u001b[0m\u001b[0m\n\u001b[1;32m   3157\u001b[0m                         \u001b[0mimlim\u001b[0m\u001b[1;33m=\u001b[0m\u001b[0mimlim\u001b[0m\u001b[1;33m,\u001b[0m \u001b[0mresample\u001b[0m\u001b[1;33m=\u001b[0m\u001b[0mresample\u001b[0m\u001b[1;33m,\u001b[0m \u001b[0murl\u001b[0m\u001b[1;33m=\u001b[0m\u001b[0murl\u001b[0m\u001b[1;33m,\u001b[0m \u001b[0mdata\u001b[0m\u001b[1;33m=\u001b[0m\u001b[0mdata\u001b[0m\u001b[1;33m,\u001b[0m\u001b[1;33m\u001b[0m\u001b[0m\n\u001b[0;32m-> 3158\u001b[0;31m                         **kwargs)\n\u001b[0m\u001b[1;32m   3159\u001b[0m     \u001b[1;32mfinally\u001b[0m\u001b[1;33m:\u001b[0m\u001b[1;33m\u001b[0m\u001b[0m\n\u001b[1;32m   3160\u001b[0m         \u001b[0max\u001b[0m\u001b[1;33m.\u001b[0m\u001b[0m_hold\u001b[0m \u001b[1;33m=\u001b[0m \u001b[0mwashold\u001b[0m\u001b[1;33m\u001b[0m\u001b[0m\n",
      "\u001b[0;32mc:\\python27\\lib\\site-packages\\matplotlib\\__init__.pyc\u001b[0m in \u001b[0;36minner\u001b[0;34m(ax, *args, **kwargs)\u001b[0m\n\u001b[1;32m   1890\u001b[0m                     warnings.warn(msg % (label_namer, func.__name__),\n\u001b[1;32m   1891\u001b[0m                                   RuntimeWarning, stacklevel=2)\n\u001b[0;32m-> 1892\u001b[0;31m             \u001b[1;32mreturn\u001b[0m \u001b[0mfunc\u001b[0m\u001b[1;33m(\u001b[0m\u001b[0max\u001b[0m\u001b[1;33m,\u001b[0m \u001b[1;33m*\u001b[0m\u001b[0margs\u001b[0m\u001b[1;33m,\u001b[0m \u001b[1;33m**\u001b[0m\u001b[0mkwargs\u001b[0m\u001b[1;33m)\u001b[0m\u001b[1;33m\u001b[0m\u001b[0m\n\u001b[0m\u001b[1;32m   1893\u001b[0m         \u001b[0mpre_doc\u001b[0m \u001b[1;33m=\u001b[0m \u001b[0minner\u001b[0m\u001b[1;33m.\u001b[0m\u001b[0m__doc__\u001b[0m\u001b[1;33m\u001b[0m\u001b[0m\n\u001b[1;32m   1894\u001b[0m         \u001b[1;32mif\u001b[0m \u001b[0mpre_doc\u001b[0m \u001b[1;32mis\u001b[0m \u001b[0mNone\u001b[0m\u001b[1;33m:\u001b[0m\u001b[1;33m\u001b[0m\u001b[0m\n",
      "\u001b[0;32mc:\\python27\\lib\\site-packages\\matplotlib\\axes\\_axes.pyc\u001b[0m in \u001b[0;36mimshow\u001b[0;34m(self, X, cmap, norm, aspect, interpolation, alpha, vmin, vmax, origin, extent, shape, filternorm, filterrad, imlim, resample, url, **kwargs)\u001b[0m\n\u001b[1;32m   5116\u001b[0m                               resample=resample, **kwargs)\n\u001b[1;32m   5117\u001b[0m \u001b[1;33m\u001b[0m\u001b[0m\n\u001b[0;32m-> 5118\u001b[0;31m         \u001b[0mim\u001b[0m\u001b[1;33m.\u001b[0m\u001b[0mset_data\u001b[0m\u001b[1;33m(\u001b[0m\u001b[0mX\u001b[0m\u001b[1;33m)\u001b[0m\u001b[1;33m\u001b[0m\u001b[0m\n\u001b[0m\u001b[1;32m   5119\u001b[0m         \u001b[0mim\u001b[0m\u001b[1;33m.\u001b[0m\u001b[0mset_alpha\u001b[0m\u001b[1;33m(\u001b[0m\u001b[0malpha\u001b[0m\u001b[1;33m)\u001b[0m\u001b[1;33m\u001b[0m\u001b[0m\n\u001b[1;32m   5120\u001b[0m         \u001b[1;32mif\u001b[0m \u001b[0mim\u001b[0m\u001b[1;33m.\u001b[0m\u001b[0mget_clip_path\u001b[0m\u001b[1;33m(\u001b[0m\u001b[1;33m)\u001b[0m \u001b[1;32mis\u001b[0m \u001b[0mNone\u001b[0m\u001b[1;33m:\u001b[0m\u001b[1;33m\u001b[0m\u001b[0m\n",
      "\u001b[0;32mc:\\python27\\lib\\site-packages\\matplotlib\\image.pyc\u001b[0m in \u001b[0;36mset_data\u001b[0;34m(self, A)\u001b[0m\n\u001b[1;32m    543\u001b[0m         if (self._A.dtype != np.uint8 and\n\u001b[1;32m    544\u001b[0m                 not np.can_cast(self._A.dtype, np.float)):\n\u001b[0;32m--> 545\u001b[0;31m             \u001b[1;32mraise\u001b[0m \u001b[0mTypeError\u001b[0m\u001b[1;33m(\u001b[0m\u001b[1;34m\"Image data can not convert to float\"\u001b[0m\u001b[1;33m)\u001b[0m\u001b[1;33m\u001b[0m\u001b[0m\n\u001b[0m\u001b[1;32m    546\u001b[0m \u001b[1;33m\u001b[0m\u001b[0m\n\u001b[1;32m    547\u001b[0m         if (self._A.ndim not in (2, 3) or\n",
      "\u001b[0;31mTypeError\u001b[0m: Image data can not convert to float"
     ]
    },
    {
     "data": {
      "image/png": "[encoded data removed]",
      "text/plain": [
       "<matplotlib.figure.Figure at 0x8d943b0>"
      ]
     },
     "metadata": {},
     "output_type": "display_data"
    }
   ],
   "source": [
    "plt.imshow(chessBoardImage)"
   ]
  },
  {
   "cell_type": "code",
   "execution_count": 8,
   "metadata": {
    "collapsed": true,
    "deletable": true,
    "editable": true
   },
   "outputs": [],
   "source": [
    "chessBoardGrayImage = cv2.cvtColor(chessBoardImage, cv2.COLOR_RGB2GRAY)"
   ]
  },
  {
   "cell_type": "code",
   "execution_count": 9,
   "metadata": {
    "collapsed": false,
    "deletable": true,
    "editable": true
   },
   "outputs": [
    {
     "data": {
      "text/plain": [
       "<matplotlib.image.AxesImage at 0x8243588>"
      ]
     },
     "execution_count": 9,
     "metadata": {},
     "output_type": "execute_result"
    },
    {
     "data": {
      "image/png": "[encoded data removed]",
      "text/plain": [
       "<matplotlib.figure.Figure at 0x80a7eb8>"
      ]
     },
     "metadata": {},
     "output_type": "display_data"
    }
   ],
   "source": [
    "plt.imshow(chessBoardGrayImage, cmap = \"gray\")"
   ]
  },
  {
   "cell_type": "code",
   "execution_count": 10,
   "metadata": {
    "collapsed": true,
    "deletable": true,
    "editable": true
   },
   "outputs": [],
   "source": [
    "retangles, corners = cv2.findChessboardCorners(chessBoardGrayImage, (cornerHeight, cornerWidth), None)"
   ]
  },
  {
   "cell_type": "code",
   "execution_count": 11,
   "metadata": {
    "collapsed": false,
    "deletable": true,
    "editable": true
   },
   "outputs": [
    {
     "name": "stdout",
     "output_type": "stream",
     "text": [
      "True\n",
      "[[[  93.34687805   65.35333252]]\n",
      "\n",
      " [[ 145.22535706   65.35431671]]\n",
      "\n",
      " [[ 196.99243164   65.35210419]]\n",
      "\n",
      " [[ 248.76721191   65.35361481]]\n",
      "\n",
      " [[ 300.64614868   65.35384369]]\n",
      "\n",
      " [[  93.34770966  117.2332077 ]]\n",
      "\n",
      " [[ 145.2243042   117.23265076]]\n",
      "\n",
      " [[ 196.99494934  117.23019409]]\n",
      "\n",
      " [[ 248.7661438   117.23386383]]\n",
      "\n",
      " [[ 300.64639282  117.23279572]]\n",
      "\n",
      " [[  93.34558105  169.00457764]]\n",
      "\n",
      " [[ 145.22180176  169.00679016]]\n",
      "\n",
      " [[ 196.99603271  169.00396729]]\n",
      "\n",
      " [[ 248.76980591  169.00505066]]\n",
      "\n",
      " [[ 300.64788818  169.00756836]]\n",
      "\n",
      " [[  93.34700775  220.77597046]]\n",
      "\n",
      " [[ 145.22555542  220.77444458]]\n",
      "\n",
      " [[ 196.99320984  220.77819824]]\n",
      "\n",
      " [[ 248.76734924  220.7756958 ]]\n",
      "\n",
      " [[ 300.64569092  220.77464294]]\n",
      "\n",
      " [[  93.34698486  272.65301514]]\n",
      "\n",
      " [[ 145.21832275  272.65811157]]\n",
      "\n",
      " [[ 196.99542236  272.65441895]]\n",
      "\n",
      " [[ 248.76678467  272.65228271]]\n",
      "\n",
      " [[ 300.64666748  272.65313721]]]\n"
     ]
    }
   ],
   "source": [
    "print retangles\n",
    "print corners"
   ]
  },
  {
   "cell_type": "code",
   "execution_count": 12,
   "metadata": {
    "collapsed": false,
    "deletable": true,
    "editable": true
   },
   "outputs": [
    {
     "name": "stdout",
     "output_type": "stream",
     "text": [
      "[array([[ 0.,  0.,  0.],\n",
      "       [ 1.,  0.,  0.],\n",
      "       [ 2.,  0.,  0.],\n",
      "       [ 3.,  0.,  0.],\n",
      "       [ 4.,  0.,  0.],\n",
      "       [ 0.,  1.,  0.],\n",
      "       [ 1.,  1.,  0.],\n",
      "       [ 2.,  1.,  0.],\n",
      "       [ 3.,  1.,  0.],\n",
      "       [ 4.,  1.,  0.],\n",
      "       [ 0.,  2.,  0.],\n",
      "       [ 1.,  2.,  0.],\n",
      "       [ 2.,  2.,  0.],\n",
      "       [ 3.,  2.,  0.],\n",
      "       [ 4.,  2.,  0.],\n",
      "       [ 0.,  3.,  0.],\n",
      "       [ 1.,  3.,  0.],\n",
      "       [ 2.,  3.,  0.],\n",
      "       [ 3.,  3.,  0.],\n",
      "       [ 4.,  3.,  0.],\n",
      "       [ 0.,  4.,  0.],\n",
      "       [ 1.,  4.,  0.],\n",
      "       [ 2.,  4.,  0.],\n",
      "       [ 3.,  4.,  0.],\n",
      "       [ 4.,  4.,  0.]], dtype=float32)]\n"
     ]
    }
   ],
   "source": [
    "objectPoints = []\n",
    "objectPoints.append(objp)\n",
    "print objectPoints"
   ]
  },
  {
   "cell_type": "code",
   "execution_count": 13,
   "metadata": {
    "collapsed": false,
    "deletable": true,
    "editable": true
   },
   "outputs": [
    {
     "name": "stdout",
     "output_type": "stream",
     "text": [
      "[[[  93.329216     65.33628845]]\n",
      "\n",
      " [[ 145.19265747   65.33633423]]\n",
      "\n",
      " [[ 196.99203491   65.33631897]]\n",
      "\n",
      " [[ 248.79782104   65.33631897]]\n",
      "\n",
      " [[ 300.66372681   65.33627319]]\n",
      "\n",
      " [[  93.32920837  117.20209503]]\n",
      "\n",
      " [[ 145.19252014  117.20207977]]\n",
      "\n",
      " [[ 196.99261475  117.20214844]]\n",
      "\n",
      " [[ 248.7978363   117.2021637 ]]\n",
      "\n",
      " [[ 300.66369629  117.20217896]]\n",
      "\n",
      " [[  93.32923889  169.00743103]]\n",
      "\n",
      " [[ 145.19259644  169.00764465]]\n",
      "\n",
      " [[ 196.99237061  169.00762939]]\n",
      "\n",
      " [[ 248.79785156  169.00738525]]\n",
      "\n",
      " [[ 300.66369629  169.00796509]]\n",
      "\n",
      " [[  93.32920837  220.80747986]]\n",
      "\n",
      " [[ 145.19261169  220.80738831]]\n",
      "\n",
      " [[ 196.99235535  220.80740356]]\n",
      "\n",
      " [[ 248.79792786  220.80747986]]\n",
      "\n",
      " [[ 300.66366577  220.80734253]]\n",
      "\n",
      " [[  93.329216    272.67077637]]\n",
      "\n",
      " [[ 145.19252014  272.67077637]]\n",
      "\n",
      " [[ 196.99256897  272.67077637]]\n",
      "\n",
      " [[ 248.79789734  272.67077637]]\n",
      "\n",
      " [[ 300.66369629  272.67077637]]]\n"
     ]
    }
   ],
   "source": [
    "imageShowConers = cv2.cornerSubPix(chessBoardGrayImage, corners, (11, 11), (-1, -1), criteria)\n",
    "print imageShowConers"
   ]
  },
  {
   "cell_type": "code",
   "execution_count": 14,
   "metadata": {
    "collapsed": false,
    "deletable": true,
    "editable": true
   },
   "outputs": [
    {
     "name": "stdout",
     "output_type": "stream",
     "text": [
      "[array([[[  93.329216  ,   65.33628845]],\n",
      "\n",
      "       [[ 145.19265747,   65.33633423]],\n",
      "\n",
      "       [[ 196.99203491,   65.33631897]],\n",
      "\n",
      "       [[ 248.79782104,   65.33631897]],\n",
      "\n",
      "       [[ 300.66372681,   65.33627319]],\n",
      "\n",
      "       [[  93.32920837,  117.20209503]],\n",
      "\n",
      "       [[ 145.19252014,  117.20207977]],\n",
      "\n",
      "       [[ 196.99261475,  117.20214844]],\n",
      "\n",
      "       [[ 248.7978363 ,  117.2021637 ]],\n",
      "\n",
      "       [[ 300.66369629,  117.20217896]],\n",
      "\n",
      "       [[  93.32923889,  169.00743103]],\n",
      "\n",
      "       [[ 145.19259644,  169.00764465]],\n",
      "\n",
      "       [[ 196.99237061,  169.00762939]],\n",
      "\n",
      "       [[ 248.79785156,  169.00738525]],\n",
      "\n",
      "       [[ 300.66369629,  169.00796509]],\n",
      "\n",
      "       [[  93.32920837,  220.80747986]],\n",
      "\n",
      "       [[ 145.19261169,  220.80738831]],\n",
      "\n",
      "       [[ 196.99235535,  220.80740356]],\n",
      "\n",
      "       [[ 248.79792786,  220.80747986]],\n",
      "\n",
      "       [[ 300.66366577,  220.80734253]],\n",
      "\n",
      "       [[  93.329216  ,  272.67077637]],\n",
      "\n",
      "       [[ 145.19252014,  272.67077637]],\n",
      "\n",
      "       [[ 196.99256897,  272.67077637]],\n",
      "\n",
      "       [[ 248.79789734,  272.67077637]],\n",
      "\n",
      "       [[ 300.66369629,  272.67077637]]], dtype=float32)]\n"
     ]
    }
   ],
   "source": [
    "imageDrawPoints = []\n",
    "imageDrawPoints.append(imageShowConers)\n",
    "print imageDrawPoints"
   ]
  },
  {
   "cell_type": "code",
   "execution_count": 15,
   "metadata": {
    "collapsed": true,
    "deletable": true,
    "editable": true
   },
   "outputs": [],
   "source": [
    "chessBoardImage = cv2.drawChessboardCorners(chessBoardImage, (cornerHeight, cornerWidth), imageShowConers, retangles)"
   ]
  },
  {
   "cell_type": "code",
   "execution_count": 16,
   "metadata": {
    "collapsed": false,
    "deletable": true,
    "editable": true
   },
   "outputs": [
    {
     "data": {
      "text/plain": [
       "<matplotlib.image.AxesImage at 0x83a35f8>"
      ]
     },
     "execution_count": 16,
     "metadata": {},
     "output_type": "execute_result"
    },
    {
     "data": {
      "image/png": "[encoded data removed]",
      "text/plain": [
       "<matplotlib.figure.Figure at 0x8406e48>"
      ]
     },
     "metadata": {},
     "output_type": "display_data"
    }
   ],
   "source": [
    "plt.imshow(chessBoardImage)"
   ]
  },
  {
   "cell_type": "code",
   "execution_count": null,
   "metadata": {
    "collapsed": true,
    "deletable": true,
    "editable": true
   },
   "outputs": [],
   "source": []
  }
 ],
 "metadata": {
  "kernelspec": {
   "display_name": "Python 2",
   "language": "python",
   "name": "python2"
  },
  "language_info": {
   "codemirror_mode": {
    "name": "ipython",
    "version": 2
   },
   "file_extension": ".py",
   "mimetype": "text/x-python",
   "name": "python",
   "nbconvert_exporter": "python",
   "pygments_lexer": "ipython2",
   "version": "2.7.13"
  }
 },
 "nbformat": 4,
 "nbformat_minor": 2
}
